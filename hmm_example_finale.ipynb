{
 "cells": [
  {
   "cell_type": "code",
   "execution_count": 1,
   "metadata": {},
   "outputs": [],
   "source": [
    "from file_hopping import Txt_hop\n",
    "%matplotlib inline\n",
    "from graph_hop import Graph_hop\n",
    "import numpy as np"
   ]
  },
  {
   "cell_type": "code",
   "execution_count": 2,
   "metadata": {},
   "outputs": [],
   "source": [
    "# directory name\n",
    "dir_name = \"P5bp_3bs_hop/14cp\"\n",
    "# molecule name is a number in these experimets\n",
    "number = \"14\""
   ]
  },
  {
   "cell_type": "code",
   "execution_count": 3,
   "metadata": {},
   "outputs": [],
   "source": [
    "file = Txt_hop(dir_name, number, different_name=\"hopcp\", first_time_molecule=False)\n",
    "dataFrame = file.bricolage()"
   ]
  },
  {
   "cell_type": "code",
   "execution_count": 4,
   "metadata": {},
   "outputs": [
    {
     "data": {
      "text/html": [
       "<div>\n",
       "<style scoped>\n",
       "    .dataframe tbody tr th:only-of-type {\n",
       "        vertical-align: middle;\n",
       "    }\n",
       "\n",
       "    .dataframe tbody tr th {\n",
       "        vertical-align: top;\n",
       "    }\n",
       "\n",
       "    .dataframe thead th {\n",
       "        text-align: right;\n",
       "    }\n",
       "</style>\n",
       "<table border=\"1\" class=\"dataframe\">\n",
       "  <thead>\n",
       "    <tr style=\"text-align: right;\">\n",
       "      <th></th>\n",
       "      <th>X_force</th>\n",
       "      <th>Z_force</th>\n",
       "      <th>lambda</th>\n",
       "      <th>Y_force</th>\n",
       "      <th>time(sec)</th>\n",
       "    </tr>\n",
       "  </thead>\n",
       "  <tbody>\n",
       "    <tr>\n",
       "      <td>0</td>\n",
       "      <td>-0.5730</td>\n",
       "      <td>-0.0932</td>\n",
       "      <td>-192.22785</td>\n",
       "      <td>4.6908</td>\n",
       "      <td>20552.01758</td>\n",
       "    </tr>\n",
       "    <tr>\n",
       "      <td>1</td>\n",
       "      <td>-0.0076</td>\n",
       "      <td>-0.0236</td>\n",
       "      <td>-191.47140</td>\n",
       "      <td>4.5292</td>\n",
       "      <td>20552.01758</td>\n",
       "    </tr>\n",
       "    <tr>\n",
       "      <td>2</td>\n",
       "      <td>0.1529</td>\n",
       "      <td>-0.0274</td>\n",
       "      <td>-192.32165</td>\n",
       "      <td>4.5898</td>\n",
       "      <td>20552.01953</td>\n",
       "    </tr>\n",
       "    <tr>\n",
       "      <td>3</td>\n",
       "      <td>-0.0495</td>\n",
       "      <td>-0.0323</td>\n",
       "      <td>-192.01725</td>\n",
       "      <td>4.4383</td>\n",
       "      <td>20552.01953</td>\n",
       "    </tr>\n",
       "    <tr>\n",
       "      <td>4</td>\n",
       "      <td>-0.1961</td>\n",
       "      <td>0.1707</td>\n",
       "      <td>-192.18140</td>\n",
       "      <td>4.2211</td>\n",
       "      <td>20552.02148</td>\n",
       "    </tr>\n",
       "    <tr>\n",
       "      <td>...</td>\n",
       "      <td>...</td>\n",
       "      <td>...</td>\n",
       "      <td>...</td>\n",
       "      <td>...</td>\n",
       "      <td>...</td>\n",
       "    </tr>\n",
       "    <tr>\n",
       "      <td>51896</td>\n",
       "      <td>-0.4787</td>\n",
       "      <td>-0.1396</td>\n",
       "      <td>-202.11860</td>\n",
       "      <td>4.5847</td>\n",
       "      <td>20685.33984</td>\n",
       "    </tr>\n",
       "    <tr>\n",
       "      <td>51897</td>\n",
       "      <td>-0.1856</td>\n",
       "      <td>-0.0700</td>\n",
       "      <td>-201.67610</td>\n",
       "      <td>4.5241</td>\n",
       "      <td>20685.33984</td>\n",
       "    </tr>\n",
       "    <tr>\n",
       "      <td>51898</td>\n",
       "      <td>0.0238</td>\n",
       "      <td>-0.0700</td>\n",
       "      <td>-201.95490</td>\n",
       "      <td>4.7059</td>\n",
       "      <td>20685.34180</td>\n",
       "    </tr>\n",
       "    <tr>\n",
       "      <td>51899</td>\n",
       "      <td>-0.0285</td>\n",
       "      <td>-0.1048</td>\n",
       "      <td>-201.14295</td>\n",
       "      <td>4.7413</td>\n",
       "      <td>20685.34180</td>\n",
       "    </tr>\n",
       "    <tr>\n",
       "      <td>51900</td>\n",
       "      <td>-0.6515</td>\n",
       "      <td>-0.0787</td>\n",
       "      <td>-201.94345</td>\n",
       "      <td>4.6706</td>\n",
       "      <td>20685.34370</td>\n",
       "    </tr>\n",
       "  </tbody>\n",
       "</table>\n",
       "<p>51901 rows × 5 columns</p>\n",
       "</div>"
      ],
      "text/plain": [
       "       X_force  Z_force     lambda  Y_force    time(sec)\n",
       "0      -0.5730  -0.0932 -192.22785   4.6908  20552.01758\n",
       "1      -0.0076  -0.0236 -191.47140   4.5292  20552.01758\n",
       "2       0.1529  -0.0274 -192.32165   4.5898  20552.01953\n",
       "3      -0.0495  -0.0323 -192.01725   4.4383  20552.01953\n",
       "4      -0.1961   0.1707 -192.18140   4.2211  20552.02148\n",
       "...        ...      ...        ...      ...          ...\n",
       "51896  -0.4787  -0.1396 -202.11860   4.5847  20685.33984\n",
       "51897  -0.1856  -0.0700 -201.67610   4.5241  20685.33984\n",
       "51898   0.0238  -0.0700 -201.95490   4.7059  20685.34180\n",
       "51899  -0.0285  -0.1048 -201.14295   4.7413  20685.34180\n",
       "51900  -0.6515  -0.0787 -201.94345   4.6706  20685.34370\n",
       "\n",
       "[51901 rows x 5 columns]"
      ]
     },
     "execution_count": 4,
     "metadata": {},
     "output_type": "execute_result"
    }
   ],
   "source": [
    "dataFrame"
   ]
  },
  {
   "cell_type": "code",
   "execution_count": 5,
   "metadata": {},
   "outputs": [],
   "source": [
    "def mean(mu1, mu2):\n",
    "    return (mu1+mu2)/2\n",
    "\n",
    "def err_prop_mean(sigma1, sigma2):\n",
    "    return np.sqrt(sigma1**2+sigma2**2)/2"
   ]
  },
  {
   "cell_type": "code",
   "execution_count": 6,
   "metadata": {},
   "outputs": [
    {
     "name": "stdout",
     "output_type": "stream",
     "text": [
      "f media vale = 4.749707252635607, con deviazione standard = 0.3054215094786547\n"
     ]
    },
    {
     "data": {
      "image/png": "[encoded data removed]",
      "text/plain": [
       "<Figure size 432x288 with 1 Axes>"
      ]
     },
     "metadata": {
      "needs_background": "light"
     },
     "output_type": "display_data"
    },
    {
     "data": {
      "image/png": "[encoded data removed]",
      "text/plain": [
       "<Figure size 432x288 with 1 Axes>"
      ]
     },
     "metadata": {
      "needs_background": "light"
     },
     "output_type": "display_data"
    }
   ],
   "source": [
    "grafici = Graph_hop(dir_name, number, 1)\n",
    "data_frame = grafici.do_graph()"
   ]
  },
  {
   "cell_type": "code",
   "execution_count": 7,
   "metadata": {},
   "outputs": [],
   "source": [
    "# data_frame['Y_force'][:600]"
   ]
  },
  {
   "cell_type": "code",
   "execution_count": 8,
   "metadata": {},
   "outputs": [
    {
     "data": {
      "image/png": "[encoded data removed]",
      "text/plain": [
       "<Figure size 432x288 with 1 Axes>"
      ]
     },
     "metadata": {
      "needs_background": "light"
     },
     "output_type": "display_data"
    },
    {
     "name": "stdout",
     "output_type": "stream",
     "text": [
      "c_1 = 1.7683136033524405, mu_1 = 4.926071035488431, sigma_1 = 0.1491255854167658\n",
      "c_2 = 0.730071736399064, mu_2 = 4.385061053917408, sigma_2 = 0.18098993755108378\n",
      "sigma_c_1 = 0.03979856366512559, sigma_mu_1 = 0.005099541746847006, sigma_sigma_1 = 0.0053926136341325885\n",
      "sigma_c_2 = 0.035368766756451855, sigma_mu_2 = 0.013293207992491491, sigma_sigma_2 = 0.013356362518200663\n",
      "w_U = 0.33121492624375987, sigma_w_U = 0.04025291182323126\n",
      "w_N = 0.6609998845823418, sigma_w_N = 0.009562063474526875\n"
     ]
    }
   ],
   "source": [
    "prova = [2., 4.9, 0.1, 0.5, 4.4, 0.1]\n",
    "fitting_par, fitting_err, prob, err_prob = grafici.fit(guess=prova)"
   ]
  },
  {
   "cell_type": "code",
   "execution_count": 9,
   "metadata": {},
   "outputs": [],
   "source": [
    "from hmm import HMM"
   ]
  },
  {
   "cell_type": "code",
   "execution_count": 10,
   "metadata": {},
   "outputs": [],
   "source": [
    "A = [[0.92, 0.08], [0.03, 0.97]] # taken by an article\n",
    "PI = [0.5, 0.5]"
   ]
  },
  {
   "cell_type": "code",
   "execution_count": 11,
   "metadata": {},
   "outputs": [],
   "source": [
    "# hidden = HMM(2, A, PI, data_frame['Y_force'][:600], fitting_par)\n",
    "# alpha, beta = hidden.evaluation_problem()"
   ]
  },
  {
   "cell_type": "code",
   "execution_count": 12,
   "metadata": {},
   "outputs": [],
   "source": [
    "# alpha, beta"
   ]
  },
  {
   "cell_type": "code",
   "execution_count": 13,
   "metadata": {},
   "outputs": [],
   "source": [
    "# X = hidden.uncovering_problem()\n",
    "# X\n"
   ]
  },
  {
   "cell_type": "code",
   "execution_count": 14,
   "metadata": {},
   "outputs": [],
   "source": [
    "# grafici.subplots(fitting_par, n_points_fig=600)"
   ]
  },
  {
   "cell_type": "code",
   "execution_count": 15,
   "metadata": {},
   "outputs": [],
   "source": [
    "# A_2, PI_2 = hidden.learning_problem()"
   ]
  },
  {
   "cell_type": "code",
   "execution_count": 16,
   "metadata": {},
   "outputs": [],
   "source": [
    "# A_2, PI_2"
   ]
  },
  {
   "cell_type": "code",
   "execution_count": 17,
   "metadata": {},
   "outputs": [],
   "source": [
    "# alpha, beta, X_1, A_1, PI_1 = hidden.iteration(MAX_ITERATION=200)"
   ]
  },
  {
   "cell_type": "code",
   "execution_count": 18,
   "metadata": {},
   "outputs": [],
   "source": [
    "# alpha, beta"
   ]
  },
  {
   "cell_type": "code",
   "execution_count": 19,
   "metadata": {},
   "outputs": [],
   "source": [
    "# X, A, PI"
   ]
  },
  {
   "cell_type": "code",
   "execution_count": 20,
   "metadata": {},
   "outputs": [],
   "source": [
    "# A_1, PI_1"
   ]
  },
  {
   "cell_type": "code",
   "execution_count": 21,
   "metadata": {},
   "outputs": [
    {
     "data": {
      "text/plain": [
       "1.000000000000001"
      ]
     },
     "execution_count": 21,
     "metadata": {},
     "output_type": "execute_result"
    }
   ],
   "source": [
    "0.9954570968351122 + 0.004542903164888855"
   ]
  },
  {
   "cell_type": "code",
   "execution_count": 22,
   "metadata": {},
   "outputs": [
    {
     "data": {
      "text/plain": [
       "0.9999999999999984"
      ]
     },
     "execution_count": 22,
     "metadata": {},
     "output_type": "execute_result"
    }
   ],
   "source": [
    "0.005647760425847149 + 0.9943522395741513"
   ]
  },
  {
   "cell_type": "code",
   "execution_count": 23,
   "metadata": {},
   "outputs": [],
   "source": [
    "# grafici.subplots(fitting_par, n_points_fig=600, X=X_1)"
   ]
  },
  {
   "cell_type": "code",
   "execution_count": 24,
   "metadata": {},
   "outputs": [],
   "source": [
    "# hidden = HMM(2, A, PI, data_frame['Y_force'].iloc[600:1200].reset_index()['Y_force'], fitting_par)"
   ]
  },
  {
   "cell_type": "code",
   "execution_count": 25,
   "metadata": {},
   "outputs": [],
   "source": [
    "# alpha, beta, X_2, A_2, PI_2 = hidden.iteration(MAX_ITERATION=200)"
   ]
  },
  {
   "cell_type": "code",
   "execution_count": 26,
   "metadata": {},
   "outputs": [],
   "source": [
    "# A_2, PI_2"
   ]
  },
  {
   "cell_type": "code",
   "execution_count": 27,
   "metadata": {},
   "outputs": [],
   "source": [
    "# grafici.subplots(fitting_par, n_points_fig=1200, X=X_1+X_2)"
   ]
  },
  {
   "cell_type": "code",
   "execution_count": 28,
   "metadata": {},
   "outputs": [],
   "source": [
    "# hidden = HMM(2, A, PI, data_frame['Y_force'].iloc[1200:1800].reset_index()['Y_force'], fitting_par)\n",
    "# alpha, beta, X_3, A_3, PI_3 = hidden.iteration(MAX_ITERATION=200)\n",
    "# A_3, PI_3"
   ]
  },
  {
   "cell_type": "code",
   "execution_count": 29,
   "metadata": {},
   "outputs": [],
   "source": [
    "# grafici.subplots(fitting_par, n_points_fig=1800, X=X_1+X_2+X_3)"
   ]
  },
  {
   "cell_type": "code",
   "execution_count": 30,
   "metadata": {},
   "outputs": [],
   "source": [
    "# hidden = HMM(2, A, PI, data_frame['Y_force'].iloc[1800:2400].reset_index()['Y_force'], fitting_par)\n",
    "# alpha, beta, X_4, A_4, PI_4 = hidden.iteration(MAX_ITERATION=200)\n",
    "# A_4, PI_4\n",
    "# grafici.subplots(fitting_par, n_points_fig=2400, X=X_1+X_2+X_3+X_4)"
   ]
  },
  {
   "cell_type": "code",
   "execution_count": 31,
   "metadata": {},
   "outputs": [],
   "source": [
    "# hidden = HMM(2, A, PI, data_frame['Y_force'].iloc[2400:3000].reset_index()['Y_force'], fitting_par)\n",
    "# alpha, beta, X_5, A_5, PI_5 = hidden.iteration(MAX_ITERATION=200)\n",
    "# A_5, PI_5\n",
    "# grafici.subplots(fitting_par, n_points_fig=3000, X=X_1+X_2+X_3+X_4+X_5)"
   ]
  },
  {
   "cell_type": "code",
   "execution_count": 32,
   "metadata": {},
   "outputs": [],
   "source": [
    "# hidden = HMM(2, A, PI, data_frame['Y_force'].iloc[3000:3600].reset_index()['Y_force'], fitting_par)\n",
    "# alpha, beta, X_6, A_6, PI_6 = hidden.iteration(MAX_ITERATION=200)\n",
    "# A_6, PI_6\n",
    "# grafici.subplots(fitting_par, n_points_fig=3600, X=X_1+X_2+X_3+X_4+X_5+X_6)"
   ]
  },
  {
   "cell_type": "code",
   "execution_count": 33,
   "metadata": {},
   "outputs": [],
   "source": [
    "# hidden = HMM(2, A, PI, data_frame['Y_force'].iloc[3600:4200].reset_index()['Y_force'], fitting_par)\n",
    "# alpha, beta, X_7, A_7, PI_7 = hidden.iteration(MAX_ITERATION=200)\n",
    "# A_7, PI_7\n",
    "# grafici.subplots(fitting_par, n_points_fig=4200, X=X_1+X_2+X_3+X_4+X_5+X_6+X_7)"
   ]
  },
  {
   "cell_type": "code",
   "execution_count": 34,
   "metadata": {},
   "outputs": [],
   "source": [
    "# hidden = HMM(2, A, PI, data_frame['Y_force'].iloc[4200:4800].reset_index()['Y_force'], fitting_par)\n",
    "# alpha, beta, X_8, A_8, PI_8 = hidden.iteration(MAX_ITERATION=200)\n",
    "# A_8, PI_8\n",
    "# grafici.subplots(fitting_par, n_points_fig=4800, X=X_1+X_2+X_3+X_4+X_5+X_6+X_7+X_8)"
   ]
  },
  {
   "cell_type": "code",
   "execution_count": 35,
   "metadata": {},
   "outputs": [],
   "source": [
    "# hidden = HMM(2, A, PI, data_frame['Y_force'].iloc[4800:5400].reset_index()['Y_force'], fitting_par)\n",
    "# alpha, beta, X_9, A_9, PI_9 = hidden.iteration(MAX_ITERATION=200)\n",
    "# A_9, PI_9\n",
    "# grafici.subplots(fitting_par, n_points_fig=5400, X=X_1+X_2+X_3+X_4+X_5+X_6+X_7+X_8+X_9)"
   ]
  },
  {
   "cell_type": "code",
   "execution_count": 36,
   "metadata": {},
   "outputs": [],
   "source": [
    "# hidden = HMM(2, A, PI, data_frame['Y_force'].iloc[5400:6000].reset_index()['Y_force'], fitting_par)\n",
    "# alpha, beta, X_10, A_10, PI_10 = hidden.iteration(MAX_ITERATION=200)\n",
    "# A_10, PI_10\n",
    "# grafici.subplots(fitting_par, n_points_fig=6000, X=X_1+X_2+X_3+X_4+X_5+X_6+X_7+X_8+X_9+X_10)"
   ]
  },
  {
   "cell_type": "code",
   "execution_count": 37,
   "metadata": {},
   "outputs": [],
   "source": [
    "# hidden = HMM(2, A, PI, data_frame['Y_force'].iloc[6000:6600].reset_index()['Y_force'], fitting_par)\n",
    "# alpha, beta, X_11, A_11, PI_11 = hidden.iteration(MAX_ITERATION=200)\n",
    "# A_11, PI_11\n",
    "# grafici.subplots(fitting_par, n_points_fig=6600, X=X_1+X_2+X_3+X_4+X_5+X_6+X_7+X_8+X_9+X_10+X_11)"
   ]
  },
  {
   "cell_type": "code",
   "execution_count": 38,
   "metadata": {},
   "outputs": [],
   "source": [
    "# grafici.subplots(fitting_par, n_points_fig=6600, X=X_1+X_2+X_3+X_4+X_5+X_6+X_7+X_8+X_9+X_10+X_11)"
   ]
  },
  {
   "cell_type": "code",
   "execution_count": 39,
   "metadata": {},
   "outputs": [
    {
     "name": "stdout",
     "output_type": "stream",
     "text": [
      "LOADING 10.0%\n",
      "LOADING 20.0%\n",
      "LOADING 30.0%\n",
      "LOADING 40.0%\n",
      "LOADING 50.0%\n",
      "LOADING 60.0%\n",
      "LOADING 70.0%\n",
      "LOADING 80.0%\n",
      "LOADING 90.0%\n",
      "LOADING 100.0%\n"
     ]
    }
   ],
   "source": [
    "X_fin = []\n",
    "for i in range(0,6000,600):\n",
    "    hidden = HMM(2, A, PI, data_frame['Y_force'].iloc[i:i+600].reset_index()['Y_force'], fitting_par)\n",
    "    alpha, beta, X_1, A_1, PI_1 = hidden.iteration(MAX_ITERATION=200, show=False)\n",
    "    X_fin.extend(X_1)\n",
    "    print(f\"LOADING {i/60+10}%\")"
   ]
  },
  {
   "cell_type": "code",
   "execution_count": 40,
   "metadata": {},
   "outputs": [
    {
     "data": {
      "image/png": "[encoded data removed]",
      "text/plain": [
       "<Figure size 720x360 with 2 Axes>"
      ]
     },
     "metadata": {
      "needs_background": "light"
     },
     "output_type": "display_data"
    }
   ],
   "source": [
    "grafici.subplots(fitting_par, n_points_fig=6000, X=X_fin)"
   ]
  },
  {
   "cell_type": "code",
   "execution_count": null,
   "metadata": {},
   "outputs": [],
   "source": []
  },
  {
   "cell_type": "code",
   "execution_count": 41,
   "metadata": {},
   "outputs": [],
   "source": [
    "import os\n",
    "import matplotlib.pyplot as plt\n",
    "import imageio"
   ]
  },
  {
   "cell_type": "code",
   "execution_count": 52,
   "metadata": {},
   "outputs": [],
   "source": [
    "filenames = []\n",
    "states = []\n",
    "for j in X_fin:\n",
    "    if j == 0:\n",
    "        states.append(fitting_par[1])\n",
    "    else:\n",
    "        states.append(fitting_par[4])\n",
    "for i in range(0, len(states), 100):\n",
    "    # plot the line chart\n",
    "    plt.plot(data_frame['time(sec)'][:6000], data_frame['Y_force'][:6000], label='$f_y$')\n",
    "    plt.plot(data_frame['time(sec)'][:i], states[:i], linewidth=3, color = 'c', label='HMM')\n",
    "    plt.xlabel('$t\\:[s]$')\n",
    "    plt.ylabel('$f_y\\:[pN]$')\n",
    "    plt.legend()\n",
    "    # create file name and append it to a list\n",
    "    filename = f'{i}.png'\n",
    "    filenames.append(filename)\n",
    "    \n",
    "    # save frame\n",
    "    plt.savefig(filename)\n",
    "    plt.close()\n",
    "# build gif\n",
    "with imageio.get_writer('hmm.gif', mode='I') as writer:\n",
    "    for filename in filenames:\n",
    "        image = imageio.imread(filename)\n",
    "        writer.append_data(image)\n",
    "        \n",
    "# Remove files\n",
    "for filename in set(filenames):\n",
    "    os.remove(filename)"
   ]
  }
 ],
 "metadata": {
  "kernelspec": {
   "display_name": "Python 3.7.4 ('base')",
   "language": "python",
   "name": "python3"
  },
  "language_info": {
   "codemirror_mode": {
    "name": "ipython",
    "version": 3
   },
   "file_extension": ".py",
   "mimetype": "text/x-python",
   "name": "python",
   "nbconvert_exporter": "python",
   "pygments_lexer": "ipython3",
   "version": "3.7.4"
  },
  "orig_nbformat": 4,
  "vscode": {
   "interpreter": {
    "hash": "7cc63d8bb06c1e0227ac9b01a159a9605014b04eb1faff35da1ccc42cc4f7246"
   }
  }
 },
 "nbformat": 4,
 "nbformat_minor": 2
}
