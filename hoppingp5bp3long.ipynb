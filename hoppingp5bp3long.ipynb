{
 "cells": [
  {
   "cell_type": "code",
   "execution_count": 1,
   "metadata": {},
   "outputs": [],
   "source": [
    "from file_hopping import Txt_hop\n",
    "%matplotlib inline\n",
    "from graph_hop import Graph_hop\n",
    "import numpy as np"
   ]
  },
  {
   "cell_type": "markdown",
   "metadata": {},
   "source": [
    "# 3bs_hop-long"
   ]
  },
  {
   "cell_type": "code",
   "execution_count": 2,
   "metadata": {},
   "outputs": [],
   "source": [
    "# directory name\n",
    "dir_name = \"P5bp_3bs_hop/3long\"\n",
    "# molecule name is a number in these experimets\n",
    "number = \"3\""
   ]
  },
  {
   "cell_type": "code",
   "execution_count": 3,
   "metadata": {},
   "outputs": [],
   "source": [
    "file = Txt_hop(dir_name, number, \"bs_3long\", first_time_molecule=False)\n",
    "dataFrame = file.bricolage()"
   ]
  },
  {
   "cell_type": "code",
   "execution_count": 4,
   "metadata": {},
   "outputs": [
    {
     "data": {
      "text/html": [
       "<div>\n",
       "<style scoped>\n",
       "    .dataframe tbody tr th:only-of-type {\n",
       "        vertical-align: middle;\n",
       "    }\n",
       "\n",
       "    .dataframe tbody tr th {\n",
       "        vertical-align: top;\n",
       "    }\n",
       "\n",
       "    .dataframe thead th {\n",
       "        text-align: right;\n",
       "    }\n",
       "</style>\n",
       "<table border=\"1\" class=\"dataframe\">\n",
       "  <thead>\n",
       "    <tr style=\"text-align: right;\">\n",
       "      <th></th>\n",
       "      <th>X_force</th>\n",
       "      <th>Z_force</th>\n",
       "      <th>lambda</th>\n",
       "      <th>Y_force</th>\n",
       "      <th>time(sec)</th>\n",
       "    </tr>\n",
       "  </thead>\n",
       "  <tbody>\n",
       "    <tr>\n",
       "      <td>0</td>\n",
       "      <td>0.6327</td>\n",
       "      <td>0.8847</td>\n",
       "      <td>341.99575</td>\n",
       "      <td>4.7216</td>\n",
       "      <td>10929.13672</td>\n",
       "    </tr>\n",
       "    <tr>\n",
       "      <td>1</td>\n",
       "      <td>0.2662</td>\n",
       "      <td>0.8180</td>\n",
       "      <td>341.93600</td>\n",
       "      <td>4.7569</td>\n",
       "      <td>10929.13867</td>\n",
       "    </tr>\n",
       "    <tr>\n",
       "      <td>2</td>\n",
       "      <td>0.8648</td>\n",
       "      <td>0.7841</td>\n",
       "      <td>341.99005</td>\n",
       "      <td>4.8108</td>\n",
       "      <td>10929.14062</td>\n",
       "    </tr>\n",
       "    <tr>\n",
       "      <td>3</td>\n",
       "      <td>0.9136</td>\n",
       "      <td>0.8692</td>\n",
       "      <td>341.88505</td>\n",
       "      <td>4.7434</td>\n",
       "      <td>10929.14160</td>\n",
       "    </tr>\n",
       "    <tr>\n",
       "      <td>4</td>\n",
       "      <td>0.5228</td>\n",
       "      <td>0.7416</td>\n",
       "      <td>341.86125</td>\n",
       "      <td>4.8848</td>\n",
       "      <td>10929.14355</td>\n",
       "    </tr>\n",
       "    <tr>\n",
       "      <td>...</td>\n",
       "      <td>...</td>\n",
       "      <td>...</td>\n",
       "      <td>...</td>\n",
       "      <td>...</td>\n",
       "      <td>...</td>\n",
       "    </tr>\n",
       "    <tr>\n",
       "      <td>67926</td>\n",
       "      <td>1.3132</td>\n",
       "      <td>1.0413</td>\n",
       "      <td>352.74025</td>\n",
       "      <td>5.5599</td>\n",
       "      <td>11000.00293</td>\n",
       "    </tr>\n",
       "    <tr>\n",
       "      <td>67927</td>\n",
       "      <td>1.4965</td>\n",
       "      <td>1.0210</td>\n",
       "      <td>352.63185</td>\n",
       "      <td>5.5902</td>\n",
       "      <td>11000.00391</td>\n",
       "    </tr>\n",
       "    <tr>\n",
       "      <td>67928</td>\n",
       "      <td>1.8315</td>\n",
       "      <td>0.9340</td>\n",
       "      <td>352.41305</td>\n",
       "      <td>5.8326</td>\n",
       "      <td>11000.00586</td>\n",
       "    </tr>\n",
       "    <tr>\n",
       "      <td>67929</td>\n",
       "      <td>1.4022</td>\n",
       "      <td>1.0471</td>\n",
       "      <td>352.87410</td>\n",
       "      <td>5.8326</td>\n",
       "      <td>11000.00586</td>\n",
       "    </tr>\n",
       "    <tr>\n",
       "      <td>67930</td>\n",
       "      <td>1.1457</td>\n",
       "      <td>1.0819</td>\n",
       "      <td>352.57005</td>\n",
       "      <td>5.5548</td>\n",
       "      <td>11000.00780</td>\n",
       "    </tr>\n",
       "  </tbody>\n",
       "</table>\n",
       "<p>67931 rows × 5 columns</p>\n",
       "</div>"
      ],
      "text/plain": [
       "       X_force  Z_force     lambda  Y_force    time(sec)\n",
       "0       0.6327   0.8847  341.99575   4.7216  10929.13672\n",
       "1       0.2662   0.8180  341.93600   4.7569  10929.13867\n",
       "2       0.8648   0.7841  341.99005   4.8108  10929.14062\n",
       "3       0.9136   0.8692  341.88505   4.7434  10929.14160\n",
       "4       0.5228   0.7416  341.86125   4.8848  10929.14355\n",
       "...        ...      ...        ...      ...          ...\n",
       "67926   1.3132   1.0413  352.74025   5.5599  11000.00293\n",
       "67927   1.4965   1.0210  352.63185   5.5902  11000.00391\n",
       "67928   1.8315   0.9340  352.41305   5.8326  11000.00586\n",
       "67929   1.4022   1.0471  352.87410   5.8326  11000.00586\n",
       "67930   1.1457   1.0819  352.57005   5.5548  11000.00780\n",
       "\n",
       "[67931 rows x 5 columns]"
      ]
     },
     "execution_count": 4,
     "metadata": {},
     "output_type": "execute_result"
    }
   ],
   "source": [
    "dataFrame"
   ]
  },
  {
   "cell_type": "code",
   "execution_count": 5,
   "metadata": {},
   "outputs": [],
   "source": [
    "forces_average = []\n",
    "forces_average_std = []\n",
    "w_U = []\n",
    "w_N = []\n",
    "sigma_w_U = []\n",
    "sigma_w_N = []\n",
    "def mean(mu1, mu2):\n",
    "    return (mu1+mu2)/2\n",
    "\n",
    "def err_prop_mean(sigma1, sigma2):\n",
    "    return np.sqrt(sigma1**2+sigma2**2)/2"
   ]
  },
  {
   "cell_type": "markdown",
   "metadata": {},
   "source": [
    "# File 1"
   ]
  },
  {
   "cell_type": "code",
   "execution_count": 6,
   "metadata": {},
   "outputs": [
    {
     "name": "stdout",
     "output_type": "stream",
     "text": [
      "f media vale = 5.752989181669991, con deviazione standard = 0.38625080358472397\n"
     ]
    },
    {
     "data": {
      "image/png": "[encoded data removed]",
      "text/plain": [
       "<Figure size 432x288 with 1 Axes>"
      ]
     },
     "metadata": {
      "needs_background": "light"
     },
     "output_type": "display_data"
    },
    {
     "data": {
      "image/png": "[encoded data removed]",
      "text/plain": [
       "<Figure size 432x288 with 1 Axes>"
      ]
     },
     "metadata": {
      "needs_background": "light"
     },
     "output_type": "display_data"
    }
   ],
   "source": [
    "grafici = Graph_hop(dir_name, number, 1)\n",
    "data_frame = grafici.do_graph()\n",
    "# (2.0440e4+0.5+1.95e-3, 2.0442e4+1.-1.95e-3)"
   ]
  },
  {
   "cell_type": "markdown",
   "metadata": {},
   "source": [
    "## $f_y$ pulling? Not hopping ?! "
   ]
  },
  {
   "cell_type": "code",
   "execution_count": 7,
   "metadata": {},
   "outputs": [],
   "source": [
    "# prova = [0.2, 4.8, 0.1, 2.1, 4.2, 0.2]\n",
    "# fitting_par, fitting_err, prob, err_prob = grafici.fit(guess=prova)"
   ]
  },
  {
   "cell_type": "code",
   "execution_count": 8,
   "metadata": {},
   "outputs": [],
   "source": [
    "# forces_average.append(mean(fitting_par[1], fitting_par[4]))\n",
    "# forces_average_std.append(err_prop_mean(fitting_err[1], fitting_err[4]))\n",
    "# w_U.append(prob[0])\n",
    "# w_N.append(prob[1])\n",
    "# sigma_w_U.append(err_prob[0])\n",
    "# sigma_w_N.append(err_prob[1])"
   ]
  },
  {
   "cell_type": "code",
   "execution_count": 9,
   "metadata": {},
   "outputs": [],
   "source": [
    "# grafici.subplots(fitting_par)"
   ]
  },
  {
   "cell_type": "code",
   "execution_count": 8,
   "metadata": {},
   "outputs": [
    {
     "data": {
      "text/html": [
       "<div>\n",
       "<style scoped>\n",
       "    .dataframe tbody tr th:only-of-type {\n",
       "        vertical-align: middle;\n",
       "    }\n",
       "\n",
       "    .dataframe tbody tr th {\n",
       "        vertical-align: top;\n",
       "    }\n",
       "\n",
       "    .dataframe thead th {\n",
       "        text-align: right;\n",
       "    }\n",
       "</style>\n",
       "<table border=\"1\" class=\"dataframe\">\n",
       "  <thead>\n",
       "    <tr style=\"text-align: right;\">\n",
       "      <th></th>\n",
       "      <th>X_force</th>\n",
       "      <th>Z_force</th>\n",
       "      <th>lambda</th>\n",
       "      <th>Y_force</th>\n",
       "      <th>time(sec)</th>\n",
       "    </tr>\n",
       "  </thead>\n",
       "  <tbody>\n",
       "    <tr>\n",
       "      <td>0</td>\n",
       "      <td>0.4181</td>\n",
       "      <td>-0.0259</td>\n",
       "      <td>289.72955</td>\n",
       "      <td>0.6917</td>\n",
       "      <td>0.00000</td>\n",
       "    </tr>\n",
       "    <tr>\n",
       "      <td>1</td>\n",
       "      <td>0.2139</td>\n",
       "      <td>-0.1071</td>\n",
       "      <td>289.44350</td>\n",
       "      <td>0.7674</td>\n",
       "      <td>0.00195</td>\n",
       "    </tr>\n",
       "    <tr>\n",
       "      <td>2</td>\n",
       "      <td>0.0307</td>\n",
       "      <td>-0.2782</td>\n",
       "      <td>289.66460</td>\n",
       "      <td>0.8583</td>\n",
       "      <td>0.00195</td>\n",
       "    </tr>\n",
       "    <tr>\n",
       "      <td>3</td>\n",
       "      <td>-0.4824</td>\n",
       "      <td>-0.1245</td>\n",
       "      <td>289.13545</td>\n",
       "      <td>0.6765</td>\n",
       "      <td>0.00390</td>\n",
       "    </tr>\n",
       "    <tr>\n",
       "      <td>4</td>\n",
       "      <td>0.0830</td>\n",
       "      <td>0.0031</td>\n",
       "      <td>289.43655</td>\n",
       "      <td>0.6361</td>\n",
       "      <td>0.00488</td>\n",
       "    </tr>\n",
       "    <tr>\n",
       "      <td>...</td>\n",
       "      <td>...</td>\n",
       "      <td>...</td>\n",
       "      <td>...</td>\n",
       "      <td>...</td>\n",
       "      <td>...</td>\n",
       "    </tr>\n",
       "    <tr>\n",
       "      <td>8050</td>\n",
       "      <td>0.5856</td>\n",
       "      <td>-0.3140</td>\n",
       "      <td>289.70235</td>\n",
       "      <td>0.8785</td>\n",
       "      <td>8.37988</td>\n",
       "    </tr>\n",
       "    <tr>\n",
       "      <td>8051</td>\n",
       "      <td>0.1807</td>\n",
       "      <td>-0.0781</td>\n",
       "      <td>289.54545</td>\n",
       "      <td>0.6900</td>\n",
       "      <td>8.38085</td>\n",
       "    </tr>\n",
       "    <tr>\n",
       "      <td>8052</td>\n",
       "      <td>0.1772</td>\n",
       "      <td>0.0002</td>\n",
       "      <td>289.88585</td>\n",
       "      <td>0.6462</td>\n",
       "      <td>8.38281</td>\n",
       "    </tr>\n",
       "    <tr>\n",
       "      <td>8053</td>\n",
       "      <td>0.4233</td>\n",
       "      <td>0.0988</td>\n",
       "      <td>289.95560</td>\n",
       "      <td>0.5503</td>\n",
       "      <td>8.38378</td>\n",
       "    </tr>\n",
       "    <tr>\n",
       "      <td>8054</td>\n",
       "      <td>0.3238</td>\n",
       "      <td>0.1162</td>\n",
       "      <td>289.79655</td>\n",
       "      <td>0.5654</td>\n",
       "      <td>8.38373</td>\n",
       "    </tr>\n",
       "  </tbody>\n",
       "</table>\n",
       "<p>8055 rows × 5 columns</p>\n",
       "</div>"
      ],
      "text/plain": [
       "      X_force  Z_force     lambda  Y_force  time(sec)\n",
       "0      0.4181  -0.0259  289.72955   0.6917    0.00000\n",
       "1      0.2139  -0.1071  289.44350   0.7674    0.00195\n",
       "2      0.0307  -0.2782  289.66460   0.8583    0.00195\n",
       "3     -0.4824  -0.1245  289.13545   0.6765    0.00390\n",
       "4      0.0830   0.0031  289.43655   0.6361    0.00488\n",
       "...       ...      ...        ...      ...        ...\n",
       "8050   0.5856  -0.3140  289.70235   0.8785    8.37988\n",
       "8051   0.1807  -0.0781  289.54545   0.6900    8.38085\n",
       "8052   0.1772   0.0002  289.88585   0.6462    8.38281\n",
       "8053   0.4233   0.0988  289.95560   0.5503    8.38378\n",
       "8054   0.3238   0.1162  289.79655   0.5654    8.38373\n",
       "\n",
       "[8055 rows x 5 columns]"
      ]
     },
     "execution_count": 8,
     "metadata": {},
     "output_type": "execute_result"
    }
   ],
   "source": [
    "data_frame"
   ]
  }
 ],
 "metadata": {
  "interpreter": {
   "hash": "7cc63d8bb06c1e0227ac9b01a159a9605014b04eb1faff35da1ccc42cc4f7246"
  },
  "kernelspec": {
   "display_name": "Python 3.7.4 ('base')",
   "language": "python",
   "name": "python3"
  },
  "language_info": {
   "codemirror_mode": {
    "name": "ipython",
    "version": 3
   },
   "file_extension": ".py",
   "mimetype": "text/x-python",
   "name": "python",
   "nbconvert_exporter": "python",
   "pygments_lexer": "ipython3",
   "version": "3.7.4"
  },
  "orig_nbformat": 4
 },
 "nbformat": 4,
 "nbformat_minor": 2
}
