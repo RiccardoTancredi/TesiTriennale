{
 "cells": [
  {
   "cell_type": "code",
   "execution_count": 1,
   "metadata": {},
   "outputs": [],
   "source": [
    "from file_hopping import Txt_hop\n",
    "%matplotlib inline\n",
    "from graph_hop import Graph_hop\n",
    "import numpy as np"
   ]
  },
  {
   "cell_type": "markdown",
   "metadata": {},
   "source": [
    "# 3bs_hop-long-constposition"
   ]
  },
  {
   "cell_type": "code",
   "execution_count": 2,
   "metadata": {},
   "outputs": [],
   "source": [
    "# directory name\n",
    "dir_name = \"P5bp_3bs_hop/3longcp\"\n",
    "# molecule name is a number in these experimets\n",
    "number = \"3\""
   ]
  },
  {
   "cell_type": "code",
   "execution_count": 3,
   "metadata": {},
   "outputs": [],
   "source": [
    "file = Txt_hop(dir_name, number, \"bs_3longconstpos\", first_time_molecule=False)\n",
    "dataFrame = file.bricolage()"
   ]
  },
  {
   "cell_type": "code",
   "execution_count": 4,
   "metadata": {},
   "outputs": [
    {
     "data": {
      "text/html": [
       "<div>\n",
       "<style scoped>\n",
       "    .dataframe tbody tr th:only-of-type {\n",
       "        vertical-align: middle;\n",
       "    }\n",
       "\n",
       "    .dataframe tbody tr th {\n",
       "        vertical-align: top;\n",
       "    }\n",
       "\n",
       "    .dataframe thead th {\n",
       "        text-align: right;\n",
       "    }\n",
       "</style>\n",
       "<table border=\"1\" class=\"dataframe\">\n",
       "  <thead>\n",
       "    <tr style=\"text-align: right;\">\n",
       "      <th></th>\n",
       "      <th>X_force</th>\n",
       "      <th>Z_force</th>\n",
       "      <th>lambda</th>\n",
       "      <th>Y_force</th>\n",
       "      <th>time(sec)</th>\n",
       "    </tr>\n",
       "  </thead>\n",
       "  <tbody>\n",
       "    <tr>\n",
       "      <td>0</td>\n",
       "      <td>1.5855</td>\n",
       "      <td>0.9862</td>\n",
       "      <td>296.02530</td>\n",
       "      <td>3.9691</td>\n",
       "      <td>11028.51074</td>\n",
       "    </tr>\n",
       "    <tr>\n",
       "      <td>1</td>\n",
       "      <td>0.9276</td>\n",
       "      <td>0.9581</td>\n",
       "      <td>296.11390</td>\n",
       "      <td>3.9354</td>\n",
       "      <td>11028.51172</td>\n",
       "    </tr>\n",
       "    <tr>\n",
       "      <td>2</td>\n",
       "      <td>1.4232</td>\n",
       "      <td>0.8963</td>\n",
       "      <td>296.11630</td>\n",
       "      <td>4.0297</td>\n",
       "      <td>11028.51270</td>\n",
       "    </tr>\n",
       "    <tr>\n",
       "      <td>3</td>\n",
       "      <td>1.5698</td>\n",
       "      <td>0.8615</td>\n",
       "      <td>296.46275</td>\n",
       "      <td>4.0701</td>\n",
       "      <td>11028.51465</td>\n",
       "    </tr>\n",
       "    <tr>\n",
       "      <td>4</td>\n",
       "      <td>1.1353</td>\n",
       "      <td>0.8702</td>\n",
       "      <td>296.31850</td>\n",
       "      <td>3.9439</td>\n",
       "      <td>11028.51465</td>\n",
       "    </tr>\n",
       "    <tr>\n",
       "      <td>...</td>\n",
       "      <td>...</td>\n",
       "      <td>...</td>\n",
       "      <td>...</td>\n",
       "      <td>...</td>\n",
       "      <td>...</td>\n",
       "    </tr>\n",
       "    <tr>\n",
       "      <td>63258</td>\n",
       "      <td>0.9625</td>\n",
       "      <td>0.9833</td>\n",
       "      <td>295.92440</td>\n",
       "      <td>4.7165</td>\n",
       "      <td>11094.47168</td>\n",
       "    </tr>\n",
       "    <tr>\n",
       "      <td>63259</td>\n",
       "      <td>1.2661</td>\n",
       "      <td>1.1167</td>\n",
       "      <td>295.90830</td>\n",
       "      <td>4.7165</td>\n",
       "      <td>11094.47266</td>\n",
       "    </tr>\n",
       "    <tr>\n",
       "      <td>63260</td>\n",
       "      <td>1.2190</td>\n",
       "      <td>1.0297</td>\n",
       "      <td>295.79720</td>\n",
       "      <td>4.7367</td>\n",
       "      <td>11094.47461</td>\n",
       "    </tr>\n",
       "    <tr>\n",
       "      <td>63261</td>\n",
       "      <td>0.9939</td>\n",
       "      <td>1.0210</td>\n",
       "      <td>295.97970</td>\n",
       "      <td>4.6054</td>\n",
       "      <td>11094.47461</td>\n",
       "    </tr>\n",
       "    <tr>\n",
       "      <td>63262</td>\n",
       "      <td>1.0620</td>\n",
       "      <td>0.8789</td>\n",
       "      <td>295.60760</td>\n",
       "      <td>5.0246</td>\n",
       "      <td>11094.47656</td>\n",
       "    </tr>\n",
       "  </tbody>\n",
       "</table>\n",
       "<p>63263 rows × 5 columns</p>\n",
       "</div>"
      ],
      "text/plain": [
       "       X_force  Z_force     lambda  Y_force    time(sec)\n",
       "0       1.5855   0.9862  296.02530   3.9691  11028.51074\n",
       "1       0.9276   0.9581  296.11390   3.9354  11028.51172\n",
       "2       1.4232   0.8963  296.11630   4.0297  11028.51270\n",
       "3       1.5698   0.8615  296.46275   4.0701  11028.51465\n",
       "4       1.1353   0.8702  296.31850   3.9439  11028.51465\n",
       "...        ...      ...        ...      ...          ...\n",
       "63258   0.9625   0.9833  295.92440   4.7165  11094.47168\n",
       "63259   1.2661   1.1167  295.90830   4.7165  11094.47266\n",
       "63260   1.2190   1.0297  295.79720   4.7367  11094.47461\n",
       "63261   0.9939   1.0210  295.97970   4.6054  11094.47461\n",
       "63262   1.0620   0.8789  295.60760   5.0246  11094.47656\n",
       "\n",
       "[63263 rows x 5 columns]"
      ]
     },
     "execution_count": 4,
     "metadata": {},
     "output_type": "execute_result"
    }
   ],
   "source": [
    "dataFrame"
   ]
  },
  {
   "cell_type": "code",
   "execution_count": 5,
   "metadata": {},
   "outputs": [],
   "source": [
    "forces_average = []\n",
    "forces_average_std = []\n",
    "w_U = []\n",
    "w_N = []\n",
    "sigma_w_U = []\n",
    "sigma_w_N = []\n",
    "def mean(mu1, mu2):\n",
    "    return (mu1+mu2)/2\n",
    "\n",
    "def err_prop_mean(sigma1, sigma2):\n",
    "    return np.sqrt(sigma1**2+sigma2**2)/2"
   ]
  },
  {
   "cell_type": "markdown",
   "metadata": {},
   "source": [
    "# File 1"
   ]
  },
  {
   "cell_type": "code",
   "execution_count": 6,
   "metadata": {},
   "outputs": [
    {
     "name": "stdout",
     "output_type": "stream",
     "text": [
      "f media vale = 4.150964412057535, con deviazione standard = 0.3583406113819135\n"
     ]
    },
    {
     "data": {
      "image/png": "[encoded data removed]",
      "text/plain": [
       "<Figure size 432x288 with 1 Axes>"
      ]
     },
     "metadata": {
      "needs_background": "light"
     },
     "output_type": "display_data"
    },
    {
     "data": {
      "image/png": "[encoded data removed]",
      "text/plain": [
       "<Figure size 432x288 with 1 Axes>"
      ]
     },
     "metadata": {
      "needs_background": "light"
     },
     "output_type": "display_data"
    }
   ],
   "source": [
    "grafici = Graph_hop(dir_name, number, 1)\n",
    "data_frame = grafici.do_graph()\n",
    "# (2.0440e4+0.5+1.95e-3, 2.0442e4+1.-1.95e-3)"
   ]
  },
  {
   "cell_type": "markdown",
   "metadata": {},
   "source": [
    "## $f_y$ pulling? Not hopping ?! "
   ]
  },
  {
   "cell_type": "code",
   "execution_count": 8,
   "metadata": {},
   "outputs": [],
   "source": [
    "# prova = [0.2, 4.8, 0.1, 2.1, 4.2, 0.2]\n",
    "# fitting_par, fitting_err, prob, err_prob = grafici.fit(guess=prova)"
   ]
  },
  {
   "cell_type": "code",
   "execution_count": 9,
   "metadata": {},
   "outputs": [],
   "source": [
    "# forces_average.append(mean(fitting_par[1], fitting_par[4]))\n",
    "# forces_average_std.append(err_prop_mean(fitting_err[1], fitting_err[4]))\n",
    "# w_U.append(prob[0])\n",
    "# w_N.append(prob[1])\n",
    "# sigma_w_U.append(err_prob[0])\n",
    "# sigma_w_N.append(err_prob[1])"
   ]
  },
  {
   "cell_type": "code",
   "execution_count": 10,
   "metadata": {},
   "outputs": [],
   "source": [
    "# grafici.subplots(fitting_par)"
   ]
  },
  {
   "cell_type": "code",
   "execution_count": 7,
   "metadata": {},
   "outputs": [
    {
     "data": {
      "text/html": [
       "<div>\n",
       "<style scoped>\n",
       "    .dataframe tbody tr th:only-of-type {\n",
       "        vertical-align: middle;\n",
       "    }\n",
       "\n",
       "    .dataframe tbody tr th {\n",
       "        vertical-align: top;\n",
       "    }\n",
       "\n",
       "    .dataframe thead th {\n",
       "        text-align: right;\n",
       "    }\n",
       "</style>\n",
       "<table border=\"1\" class=\"dataframe\">\n",
       "  <thead>\n",
       "    <tr style=\"text-align: right;\">\n",
       "      <th></th>\n",
       "      <th>X_force</th>\n",
       "      <th>Z_force</th>\n",
       "      <th>lambda</th>\n",
       "      <th>Y_force</th>\n",
       "      <th>time(sec)</th>\n",
       "    </tr>\n",
       "  </thead>\n",
       "  <tbody>\n",
       "    <tr>\n",
       "      <td>0</td>\n",
       "      <td>1.5855</td>\n",
       "      <td>0.9862</td>\n",
       "      <td>296.02530</td>\n",
       "      <td>3.9691</td>\n",
       "      <td>0.00000</td>\n",
       "    </tr>\n",
       "    <tr>\n",
       "      <td>1</td>\n",
       "      <td>0.9276</td>\n",
       "      <td>0.9581</td>\n",
       "      <td>296.11390</td>\n",
       "      <td>3.9354</td>\n",
       "      <td>0.00098</td>\n",
       "    </tr>\n",
       "    <tr>\n",
       "      <td>2</td>\n",
       "      <td>1.4232</td>\n",
       "      <td>0.8963</td>\n",
       "      <td>296.11630</td>\n",
       "      <td>4.0297</td>\n",
       "      <td>0.00196</td>\n",
       "    </tr>\n",
       "    <tr>\n",
       "      <td>3</td>\n",
       "      <td>1.5698</td>\n",
       "      <td>0.8615</td>\n",
       "      <td>296.46275</td>\n",
       "      <td>4.0701</td>\n",
       "      <td>0.00391</td>\n",
       "    </tr>\n",
       "    <tr>\n",
       "      <td>4</td>\n",
       "      <td>1.1353</td>\n",
       "      <td>0.8702</td>\n",
       "      <td>296.31850</td>\n",
       "      <td>3.9439</td>\n",
       "      <td>0.00391</td>\n",
       "    </tr>\n",
       "    <tr>\n",
       "      <td>...</td>\n",
       "      <td>...</td>\n",
       "      <td>...</td>\n",
       "      <td>...</td>\n",
       "      <td>...</td>\n",
       "      <td>...</td>\n",
       "    </tr>\n",
       "    <tr>\n",
       "      <td>63258</td>\n",
       "      <td>0.9625</td>\n",
       "      <td>0.9833</td>\n",
       "      <td>295.92440</td>\n",
       "      <td>4.7165</td>\n",
       "      <td>65.96094</td>\n",
       "    </tr>\n",
       "    <tr>\n",
       "      <td>63259</td>\n",
       "      <td>1.2661</td>\n",
       "      <td>1.1167</td>\n",
       "      <td>295.90830</td>\n",
       "      <td>4.7165</td>\n",
       "      <td>65.96192</td>\n",
       "    </tr>\n",
       "    <tr>\n",
       "      <td>63260</td>\n",
       "      <td>1.2190</td>\n",
       "      <td>1.0297</td>\n",
       "      <td>295.79720</td>\n",
       "      <td>4.7367</td>\n",
       "      <td>65.96387</td>\n",
       "    </tr>\n",
       "    <tr>\n",
       "      <td>63261</td>\n",
       "      <td>0.9939</td>\n",
       "      <td>1.0210</td>\n",
       "      <td>295.97970</td>\n",
       "      <td>4.6054</td>\n",
       "      <td>65.96387</td>\n",
       "    </tr>\n",
       "    <tr>\n",
       "      <td>63262</td>\n",
       "      <td>1.0620</td>\n",
       "      <td>0.8789</td>\n",
       "      <td>295.60760</td>\n",
       "      <td>5.0246</td>\n",
       "      <td>65.96576</td>\n",
       "    </tr>\n",
       "  </tbody>\n",
       "</table>\n",
       "<p>63263 rows × 5 columns</p>\n",
       "</div>"
      ],
      "text/plain": [
       "       X_force  Z_force     lambda  Y_force  time(sec)\n",
       "0       1.5855   0.9862  296.02530   3.9691    0.00000\n",
       "1       0.9276   0.9581  296.11390   3.9354    0.00098\n",
       "2       1.4232   0.8963  296.11630   4.0297    0.00196\n",
       "3       1.5698   0.8615  296.46275   4.0701    0.00391\n",
       "4       1.1353   0.8702  296.31850   3.9439    0.00391\n",
       "...        ...      ...        ...      ...        ...\n",
       "63258   0.9625   0.9833  295.92440   4.7165   65.96094\n",
       "63259   1.2661   1.1167  295.90830   4.7165   65.96192\n",
       "63260   1.2190   1.0297  295.79720   4.7367   65.96387\n",
       "63261   0.9939   1.0210  295.97970   4.6054   65.96387\n",
       "63262   1.0620   0.8789  295.60760   5.0246   65.96576\n",
       "\n",
       "[63263 rows x 5 columns]"
      ]
     },
     "execution_count": 7,
     "metadata": {},
     "output_type": "execute_result"
    }
   ],
   "source": [
    "data_frame"
   ]
  }
 ],
 "metadata": {
  "interpreter": {
   "hash": "7cc63d8bb06c1e0227ac9b01a159a9605014b04eb1faff35da1ccc42cc4f7246"
  },
  "kernelspec": {
   "display_name": "Python 3.7.4 ('base')",
   "language": "python",
   "name": "python3"
  },
  "language_info": {
   "codemirror_mode": {
    "name": "ipython",
    "version": 3
   },
   "file_extension": ".py",
   "mimetype": "text/x-python",
   "name": "python",
   "nbconvert_exporter": "python",
   "pygments_lexer": "ipython3",
   "version": "3.7.4"
  },
  "orig_nbformat": 4
 },
 "nbformat": 4,
 "nbformat_minor": 2
}
