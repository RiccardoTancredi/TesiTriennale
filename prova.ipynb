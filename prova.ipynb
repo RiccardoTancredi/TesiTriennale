{
 "cells": [
  {
   "cell_type": "code",
   "execution_count": 3,
   "metadata": {},
   "outputs": [
    {
     "name": "stdout",
     "output_type": "stream",
     "text": [
      "          name   runs  status\n",
      "0    Tendulkar  18426      30\n",
      "1   Sangakkara  14234     130\n",
      "2      Ponting  13704     131\n",
      "3    Jayasurya  13430      31\n",
      "4  Jayawardene  12650     130\n",
      "5        Kohli  11867     130\n",
      "6          Haq  11739     131\n",
      "7       Kallis  11579     131\n",
      "8      Ganguly  11363     131\n",
      "9       Dravid  10889     130\n"
     ]
    }
   ],
   "source": [
    "# importing the modules\n",
    "import pandas as pd\n",
    "import numpy as np\n",
    "import os.path\n",
    "\n",
    "# creating a DataFrame\n",
    "ODI_runs = {'name': ['Tendulkar', 'Sangakkara', 'Ponting',\n",
    "                     'Jayasurya', 'Jayawardene', 'Kohli',\n",
    "                     'Haq', 'Kallis', 'Ganguly', 'Dravid'],\n",
    "            'runs': [18426, 14234, 13704, 13430, 12650,\n",
    "                     11867, 11739, 11579, 11363, 10889],\n",
    "            'status': [30, 130, 131, 31, 130, 130, 131, 131, 131, 130]}\n",
    "df = pd.DataFrame(ODI_runs)\n",
    "\n",
    "print(df)\n",
    "# # displaying the original DataFrame\n",
    "# print(\"Original DataFrame :\")\n",
    "# print(df)\n",
    "\n",
    "# # dropping the 0th and the 1st index\n",
    "# df = df.drop([2, 3])\n",
    "\n",
    "# # displaying the altered DataFrame\n",
    "# print(\"DataFrame after removing the 0th and 1st row\")\n",
    "# print(df)\n",
    "\n",
    "# # resetting the DataFrame index\n",
    "# df = df.reset_index()\n",
    "\n",
    "# # displaying the DataFrame with new index\n",
    "# print(\"Dataframe after resetting the index\")\n",
    "# print(df)\n",
    "\n",
    "# df = df.drop(['index'], axis=1)\n",
    "# print(df)\n",
    "\n",
    "# print(df.loc[df.shape[0]-1])\n",
    "\n",
    "# if not os.path.isfile('Pulling_3bs'+'/'+'16''.txt'):\n",
    "    # print(\"Ciao\")\n",
    "\n"
   ]
  },
  {
   "cell_type": "code",
   "execution_count": 182,
   "metadata": {},
   "outputs": [
    {
     "data": {
      "text/plain": [
       "'Dravid'"
      ]
     },
     "execution_count": 182,
     "metadata": {},
     "output_type": "execute_result"
    }
   ],
   "source": [
    "df.loc[df.shape[0]-1].at['name']"
   ]
  },
  {
   "cell_type": "code",
   "execution_count": null,
   "metadata": {},
   "outputs": [],
   "source": []
  },
  {
   "cell_type": "code",
   "execution_count": 167,
   "metadata": {},
   "outputs": [
    {
     "data": {
      "text/plain": [
       "Index(['name', 'runs', 'status'], dtype='object')"
      ]
     },
     "execution_count": 167,
     "metadata": {},
     "output_type": "execute_result"
    }
   ],
   "source": [
    "df.columns"
   ]
  },
  {
   "cell_type": "code",
   "execution_count": 168,
   "metadata": {},
   "outputs": [
    {
     "data": {
      "text/html": [
       "<div>\n",
       "<style scoped>\n",
       "    .dataframe tbody tr th:only-of-type {\n",
       "        vertical-align: middle;\n",
       "    }\n",
       "\n",
       "    .dataframe tbody tr th {\n",
       "        vertical-align: top;\n",
       "    }\n",
       "\n",
       "    .dataframe thead th {\n",
       "        text-align: right;\n",
       "    }\n",
       "</style>\n",
       "<table border=\"1\" class=\"dataframe\">\n",
       "  <thead>\n",
       "    <tr style=\"text-align: right;\">\n",
       "      <th></th>\n",
       "      <th>name</th>\n",
       "      <th>runs</th>\n",
       "      <th>status</th>\n",
       "    </tr>\n",
       "  </thead>\n",
       "  <tbody>\n",
       "  </tbody>\n",
       "</table>\n",
       "</div>"
      ],
      "text/plain": [
       "Empty DataFrame\n",
       "Columns: [name, runs, status]\n",
       "Index: []"
      ]
     },
     "execution_count": 168,
     "metadata": {},
     "output_type": "execute_result"
    }
   ],
   "source": [
    "df_empty = pd.DataFrame(columns = df.columns)\n",
    "df_empty"
   ]
  },
  {
   "cell_type": "code",
   "execution_count": 169,
   "metadata": {},
   "outputs": [
    {
     "data": {
      "text/html": [
       "<div>\n",
       "<style scoped>\n",
       "    .dataframe tbody tr th:only-of-type {\n",
       "        vertical-align: middle;\n",
       "    }\n",
       "\n",
       "    .dataframe tbody tr th {\n",
       "        vertical-align: top;\n",
       "    }\n",
       "\n",
       "    .dataframe thead th {\n",
       "        text-align: right;\n",
       "    }\n",
       "</style>\n",
       "<table border=\"1\" class=\"dataframe\">\n",
       "  <thead>\n",
       "    <tr style=\"text-align: right;\">\n",
       "      <th></th>\n",
       "      <th>name</th>\n",
       "      <th>runs</th>\n",
       "      <th>status</th>\n",
       "    </tr>\n",
       "  </thead>\n",
       "  <tbody>\n",
       "  </tbody>\n",
       "</table>\n",
       "</div>"
      ],
      "text/plain": [
       "Empty DataFrame\n",
       "Columns: [name, runs, status]\n",
       "Index: []"
      ]
     },
     "execution_count": 169,
     "metadata": {},
     "output_type": "execute_result"
    }
   ],
   "source": [
    "df_empty2 = df_empty.copy()\n",
    "df_empty2"
   ]
  },
  {
   "cell_type": "code",
   "execution_count": 170,
   "metadata": {},
   "outputs": [
    {
     "data": {
      "text/plain": [
       "array(['Tendulkar', 18426, 30], dtype=object)"
      ]
     },
     "execution_count": 170,
     "metadata": {},
     "output_type": "execute_result"
    }
   ],
   "source": [
    "df.loc[0].values"
   ]
  },
  {
   "cell_type": "code",
   "execution_count": 171,
   "metadata": {},
   "outputs": [
    {
     "data": {
      "text/html": [
       "<div>\n",
       "<style scoped>\n",
       "    .dataframe tbody tr th:only-of-type {\n",
       "        vertical-align: middle;\n",
       "    }\n",
       "\n",
       "    .dataframe tbody tr th {\n",
       "        vertical-align: top;\n",
       "    }\n",
       "\n",
       "    .dataframe thead th {\n",
       "        text-align: right;\n",
       "    }\n",
       "</style>\n",
       "<table border=\"1\" class=\"dataframe\">\n",
       "  <thead>\n",
       "    <tr style=\"text-align: right;\">\n",
       "      <th></th>\n",
       "      <th>name</th>\n",
       "      <th>runs</th>\n",
       "      <th>status</th>\n",
       "    </tr>\n",
       "  </thead>\n",
       "  <tbody>\n",
       "    <tr>\n",
       "      <td>0</td>\n",
       "      <td>Tendulkar</td>\n",
       "      <td>18426</td>\n",
       "      <td>30</td>\n",
       "    </tr>\n",
       "  </tbody>\n",
       "</table>\n",
       "</div>"
      ],
      "text/plain": [
       "        name   runs status\n",
       "0  Tendulkar  18426     30"
      ]
     },
     "execution_count": 171,
     "metadata": {},
     "output_type": "execute_result"
    }
   ],
   "source": [
    "df_empty2 = df_empty2.append(df.loc[0], ignore_index=True)\n",
    "df_empty2"
   ]
  },
  {
   "cell_type": "code",
   "execution_count": 172,
   "metadata": {},
   "outputs": [
    {
     "data": {
      "text/html": [
       "<div>\n",
       "<style scoped>\n",
       "    .dataframe tbody tr th:only-of-type {\n",
       "        vertical-align: middle;\n",
       "    }\n",
       "\n",
       "    .dataframe tbody tr th {\n",
       "        vertical-align: top;\n",
       "    }\n",
       "\n",
       "    .dataframe thead th {\n",
       "        text-align: right;\n",
       "    }\n",
       "</style>\n",
       "<table border=\"1\" class=\"dataframe\">\n",
       "  <thead>\n",
       "    <tr style=\"text-align: right;\">\n",
       "      <th></th>\n",
       "      <th>name</th>\n",
       "      <th>runs</th>\n",
       "      <th>status</th>\n",
       "    </tr>\n",
       "  </thead>\n",
       "  <tbody>\n",
       "    <tr>\n",
       "      <td>0</td>\n",
       "      <td>Tendulkar</td>\n",
       "      <td>18426</td>\n",
       "      <td>30</td>\n",
       "    </tr>\n",
       "    <tr>\n",
       "      <td>1</td>\n",
       "      <td>Ponting</td>\n",
       "      <td>13704</td>\n",
       "      <td>131</td>\n",
       "    </tr>\n",
       "  </tbody>\n",
       "</table>\n",
       "</div>"
      ],
      "text/plain": [
       "        name   runs status\n",
       "0  Tendulkar  18426     30\n",
       "1    Ponting  13704    131"
      ]
     },
     "execution_count": 172,
     "metadata": {},
     "output_type": "execute_result"
    }
   ],
   "source": [
    "df_empty2 = df_empty2.append(df.loc[2], ignore_index=True)\n",
    "df_empty2"
   ]
  },
  {
   "cell_type": "code",
   "execution_count": 173,
   "metadata": {},
   "outputs": [
    {
     "data": {
      "text/html": [
       "<div>\n",
       "<style scoped>\n",
       "    .dataframe tbody tr th:only-of-type {\n",
       "        vertical-align: middle;\n",
       "    }\n",
       "\n",
       "    .dataframe tbody tr th {\n",
       "        vertical-align: top;\n",
       "    }\n",
       "\n",
       "    .dataframe thead th {\n",
       "        text-align: right;\n",
       "    }\n",
       "</style>\n",
       "<table border=\"1\" class=\"dataframe\">\n",
       "  <thead>\n",
       "    <tr style=\"text-align: right;\">\n",
       "      <th></th>\n",
       "      <th>name</th>\n",
       "      <th>runs</th>\n",
       "      <th>status</th>\n",
       "    </tr>\n",
       "  </thead>\n",
       "  <tbody>\n",
       "    <tr>\n",
       "      <td>0</td>\n",
       "      <td>Tendulkar</td>\n",
       "      <td>18426</td>\n",
       "      <td>30</td>\n",
       "    </tr>\n",
       "    <tr>\n",
       "      <td>1</td>\n",
       "      <td>Sangakkara</td>\n",
       "      <td>14234</td>\n",
       "      <td>130</td>\n",
       "    </tr>\n",
       "    <tr>\n",
       "      <td>2</td>\n",
       "      <td>Ponting</td>\n",
       "      <td>13704</td>\n",
       "      <td>131</td>\n",
       "    </tr>\n",
       "    <tr>\n",
       "      <td>3</td>\n",
       "      <td>Jayasurya</td>\n",
       "      <td>13430</td>\n",
       "      <td>31</td>\n",
       "    </tr>\n",
       "    <tr>\n",
       "      <td>4</td>\n",
       "      <td>Jayawardene</td>\n",
       "      <td>12650</td>\n",
       "      <td>130</td>\n",
       "    </tr>\n",
       "    <tr>\n",
       "      <td>5</td>\n",
       "      <td>Kohli</td>\n",
       "      <td>11867</td>\n",
       "      <td>130</td>\n",
       "    </tr>\n",
       "    <tr>\n",
       "      <td>6</td>\n",
       "      <td>Haq</td>\n",
       "      <td>11739</td>\n",
       "      <td>131</td>\n",
       "    </tr>\n",
       "    <tr>\n",
       "      <td>7</td>\n",
       "      <td>Kallis</td>\n",
       "      <td>11579</td>\n",
       "      <td>131</td>\n",
       "    </tr>\n",
       "    <tr>\n",
       "      <td>8</td>\n",
       "      <td>Ganguly</td>\n",
       "      <td>11363</td>\n",
       "      <td>131</td>\n",
       "    </tr>\n",
       "    <tr>\n",
       "      <td>9</td>\n",
       "      <td>Dravid</td>\n",
       "      <td>10889</td>\n",
       "      <td>130</td>\n",
       "    </tr>\n",
       "  </tbody>\n",
       "</table>\n",
       "</div>"
      ],
      "text/plain": [
       "          name   runs  status\n",
       "0    Tendulkar  18426      30\n",
       "1   Sangakkara  14234     130\n",
       "2      Ponting  13704     131\n",
       "3    Jayasurya  13430      31\n",
       "4  Jayawardene  12650     130\n",
       "5        Kohli  11867     130\n",
       "6          Haq  11739     131\n",
       "7       Kallis  11579     131\n",
       "8      Ganguly  11363     131\n",
       "9       Dravid  10889     130"
      ]
     },
     "execution_count": 173,
     "metadata": {},
     "output_type": "execute_result"
    }
   ],
   "source": [
    "df"
   ]
  },
  {
   "cell_type": "code",
   "execution_count": 164,
   "metadata": {},
   "outputs": [],
   "source": [
    "df_empty3 = df_empty.copy()"
   ]
  },
  {
   "cell_type": "code",
   "execution_count": 165,
   "metadata": {},
   "outputs": [],
   "source": [
    "\n",
    "df_empty2 = df_empty2.append(df_empty3, ignore_index=True)"
   ]
  },
  {
   "cell_type": "code",
   "execution_count": 166,
   "metadata": {},
   "outputs": [
    {
     "data": {
      "text/html": [
       "<div>\n",
       "<style scoped>\n",
       "    .dataframe tbody tr th:only-of-type {\n",
       "        vertical-align: middle;\n",
       "    }\n",
       "\n",
       "    .dataframe tbody tr th {\n",
       "        vertical-align: top;\n",
       "    }\n",
       "\n",
       "    .dataframe thead th {\n",
       "        text-align: right;\n",
       "    }\n",
       "</style>\n",
       "<table border=\"1\" class=\"dataframe\">\n",
       "  <thead>\n",
       "    <tr style=\"text-align: right;\">\n",
       "      <th></th>\n",
       "      <th>name</th>\n",
       "      <th>runs</th>\n",
       "      <th>status</th>\n",
       "    </tr>\n",
       "  </thead>\n",
       "  <tbody>\n",
       "    <tr>\n",
       "      <td>0</td>\n",
       "      <td>Tendulkar</td>\n",
       "      <td>18426</td>\n",
       "      <td>30</td>\n",
       "    </tr>\n",
       "  </tbody>\n",
       "</table>\n",
       "</div>"
      ],
      "text/plain": [
       "        name   runs status\n",
       "0  Tendulkar  18426     30"
      ]
     },
     "execution_count": 166,
     "metadata": {},
     "output_type": "execute_result"
    }
   ],
   "source": [
    "df_empty2"
   ]
  },
  {
   "cell_type": "code",
   "execution_count": 177,
   "metadata": {},
   "outputs": [
    {
     "name": "stdout",
     "output_type": "stream",
     "text": [
      "[1, 4, 5, 9, 0]\n"
     ]
    }
   ],
   "source": [
    "# for i in range(df.shape[0]):\n",
    "# df_empty = df.loc[df['status'] == 130]\n",
    "\n",
    "# print(df_empty)\n",
    "# print(df_empty.iloc[1].index)\n",
    "\n",
    "lista = df.index[df['status'] == 130].tolist()\n",
    "lista.append(0) # qui più chiaro più avanti per fare un loop completo\n",
    "print(lista)\n",
    "# print(df.loc[0])\n",
    "# sub_lista = []\n",
    "# while len(lista) != 0:\n",
    "j = 0\n",
    "# print(df.iloc[lista[0]])\n",
    "df_empty = pd.DataFrame(columns = df.columns)\n",
    "df_empty2 = df_empty.copy()\n",
    "for i in range(len(lista)-1):\n",
    "    if lista[i+1] - lista[i] == 1:\n",
    "        # if df_empty2.empty:\n",
    "        df_empty2 = df_empty2.append(df.loc[lista[i]], ignore_index=True)\n",
    "            # print(df_empty2.index)\n",
    "        # else:\n",
    "        #     # TODO\n",
    "        #     df_empty2 = pd.concat([df_empty2.to_frame(), df.loc[lista[i]].to_frame()], ignore_index=True)\n",
    "        #     # print(df_empty2)\n",
    "    else:\n",
    "        # if df_empty2.empty:\n",
    "            # print(\"si sono vuoto al giro \", i)\n",
    "        df_empty2 = df_empty2.append(df.loc[lista[i]], ignore_index=True)\n",
    "        # else:\n",
    "        #     # TODO\n",
    "        #     # print(\"no non sono vuoto al giro \", i)\n",
    "        #     df_empty2 = pd.concat([df_empty2.to_frame(), df.loc[lista[i]].to_frame()], ignore_index=True)\n",
    "        #     # df_empty2.rename(columns=df_empty2.index)\n",
    "        #     print(df_empty2.index)\n",
    "            # df_empty2 = df_empty2.iloc[0:, :]\n",
    "        # df_empty = df.loc[lista[i]].copy()\n",
    "        # df_empty2.to_frame()\n",
    "        # df_empty2.reset_index() # MA FORSE TORNA UTILE\n",
    "        # print(df_empty2)\n",
    "        with open(os.path.join(\"Pulling_3bs\", 'Prova'+str(j)+'.txt'), 'w') as outfile:\n",
    "            df_empty2.to_string(outfile)\n",
    "        j += 1\n",
    "        df_empty2 = df_empty.iloc[0:0].copy()  # svuota il dataframe\n",
    "\n",
    "# print(df)\n"
   ]
  },
  {
   "cell_type": "code",
   "execution_count": 175,
   "metadata": {},
   "outputs": [
    {
     "data": {
      "text/html": [
       "<div>\n",
       "<style scoped>\n",
       "    .dataframe tbody tr th:only-of-type {\n",
       "        vertical-align: middle;\n",
       "    }\n",
       "\n",
       "    .dataframe tbody tr th {\n",
       "        vertical-align: top;\n",
       "    }\n",
       "\n",
       "    .dataframe thead th {\n",
       "        text-align: right;\n",
       "    }\n",
       "</style>\n",
       "<table border=\"1\" class=\"dataframe\">\n",
       "  <thead>\n",
       "    <tr style=\"text-align: right;\">\n",
       "      <th></th>\n",
       "      <th>name</th>\n",
       "      <th>runs</th>\n",
       "      <th>status</th>\n",
       "    </tr>\n",
       "  </thead>\n",
       "  <tbody>\n",
       "    <tr>\n",
       "      <td>0</td>\n",
       "      <td>Tendulkar</td>\n",
       "      <td>18426</td>\n",
       "      <td>30</td>\n",
       "    </tr>\n",
       "    <tr>\n",
       "      <td>1</td>\n",
       "      <td>Sangakkara</td>\n",
       "      <td>14234</td>\n",
       "      <td>130</td>\n",
       "    </tr>\n",
       "    <tr>\n",
       "      <td>2</td>\n",
       "      <td>Ponting</td>\n",
       "      <td>13704</td>\n",
       "      <td>131</td>\n",
       "    </tr>\n",
       "    <tr>\n",
       "      <td>3</td>\n",
       "      <td>Jayasurya</td>\n",
       "      <td>13430</td>\n",
       "      <td>31</td>\n",
       "    </tr>\n",
       "    <tr>\n",
       "      <td>4</td>\n",
       "      <td>Jayawardene</td>\n",
       "      <td>12650</td>\n",
       "      <td>130</td>\n",
       "    </tr>\n",
       "    <tr>\n",
       "      <td>5</td>\n",
       "      <td>Kohli</td>\n",
       "      <td>11867</td>\n",
       "      <td>130</td>\n",
       "    </tr>\n",
       "    <tr>\n",
       "      <td>6</td>\n",
       "      <td>Haq</td>\n",
       "      <td>11739</td>\n",
       "      <td>131</td>\n",
       "    </tr>\n",
       "    <tr>\n",
       "      <td>7</td>\n",
       "      <td>Kallis</td>\n",
       "      <td>11579</td>\n",
       "      <td>131</td>\n",
       "    </tr>\n",
       "    <tr>\n",
       "      <td>8</td>\n",
       "      <td>Ganguly</td>\n",
       "      <td>11363</td>\n",
       "      <td>131</td>\n",
       "    </tr>\n",
       "    <tr>\n",
       "      <td>9</td>\n",
       "      <td>Dravid</td>\n",
       "      <td>10889</td>\n",
       "      <td>130</td>\n",
       "    </tr>\n",
       "  </tbody>\n",
       "</table>\n",
       "</div>"
      ],
      "text/plain": [
       "          name   runs  status\n",
       "0    Tendulkar  18426      30\n",
       "1   Sangakkara  14234     130\n",
       "2      Ponting  13704     131\n",
       "3    Jayasurya  13430      31\n",
       "4  Jayawardene  12650     130\n",
       "5        Kohli  11867     130\n",
       "6          Haq  11739     131\n",
       "7       Kallis  11579     131\n",
       "8      Ganguly  11363     131\n",
       "9       Dravid  10889     130"
      ]
     },
     "execution_count": 175,
     "metadata": {},
     "output_type": "execute_result"
    }
   ],
   "source": [
    "df"
   ]
  },
  {
   "cell_type": "code",
   "execution_count": 176,
   "metadata": {},
   "outputs": [
    {
     "data": {
      "text/plain": [
       "[1, 4, 5, 9, 0]"
      ]
     },
     "execution_count": 176,
     "metadata": {},
     "output_type": "execute_result"
    }
   ],
   "source": [
    "lista"
   ]
  },
  {
   "cell_type": "code",
   "execution_count": null,
   "metadata": {},
   "outputs": [],
   "source": []
  },
  {
   "cell_type": "code",
   "execution_count": null,
   "metadata": {},
   "outputs": [],
   "source": []
  },
  {
   "cell_type": "code",
   "execution_count": 205,
   "metadata": {},
   "outputs": [
    {
     "data": {
      "text/html": [
       "<div>\n",
       "<style scoped>\n",
       "    .dataframe tbody tr th:only-of-type {\n",
       "        vertical-align: middle;\n",
       "    }\n",
       "\n",
       "    .dataframe tbody tr th {\n",
       "        vertical-align: top;\n",
       "    }\n",
       "\n",
       "    .dataframe thead th {\n",
       "        text-align: right;\n",
       "    }\n",
       "</style>\n",
       "<table border=\"1\" class=\"dataframe\">\n",
       "  <thead>\n",
       "    <tr style=\"text-align: right;\">\n",
       "      <th></th>\n",
       "      <th>CycleCount</th>\n",
       "      <th>A_PsdX</th>\n",
       "      <th>A_PsdY</th>\n",
       "      <th>A_PsdSum</th>\n",
       "      <th>A_LeverX</th>\n",
       "      <th>A_LeverY</th>\n",
       "      <th>A_LeverSum</th>\n",
       "      <th>B_PsdX</th>\n",
       "      <th>B_PsdY</th>\n",
       "      <th>B_PsdSum</th>\n",
       "      <th>...</th>\n",
       "      <th>A_dist-X</th>\n",
       "      <th>A_dist-Y</th>\n",
       "      <th>B_dist-X</th>\n",
       "      <th>B_dist-Y</th>\n",
       "      <th>Motor_X</th>\n",
       "      <th>Motor_Y</th>\n",
       "      <th>Motor_Z</th>\n",
       "      <th>time(sec)</th>\n",
       "      <th>Status</th>\n",
       "      <th>lambda</th>\n",
       "    </tr>\n",
       "  </thead>\n",
       "  <tbody>\n",
       "    <tr>\n",
       "      <td>0</td>\n",
       "      <td>561330</td>\n",
       "      <td>-19.67</td>\n",
       "      <td>-72.00</td>\n",
       "      <td>8136.33</td>\n",
       "      <td>889.33</td>\n",
       "      <td>-113.67</td>\n",
       "      <td>20100.00</td>\n",
       "      <td>-23.00</td>\n",
       "      <td>-72.33</td>\n",
       "      <td>10539.00</td>\n",
       "      <td>...</td>\n",
       "      <td>630.8957</td>\n",
       "      <td>-86.2905</td>\n",
       "      <td>184.3088</td>\n",
       "      <td>86.4815</td>\n",
       "      <td>76.66</td>\n",
       "      <td>264.16</td>\n",
       "      <td>-385.74</td>\n",
       "      <td>27044.99023</td>\n",
       "      <td>131.0</td>\n",
       "      <td>0.09550</td>\n",
       "    </tr>\n",
       "    <tr>\n",
       "      <td>1</td>\n",
       "      <td>561331</td>\n",
       "      <td>-17.00</td>\n",
       "      <td>-70.00</td>\n",
       "      <td>8137.00</td>\n",
       "      <td>891.00</td>\n",
       "      <td>-113.00</td>\n",
       "      <td>20101.00</td>\n",
       "      <td>-20.00</td>\n",
       "      <td>-69.00</td>\n",
       "      <td>10535.00</td>\n",
       "      <td>...</td>\n",
       "      <td>632.0466</td>\n",
       "      <td>-85.7802</td>\n",
       "      <td>184.3526</td>\n",
       "      <td>86.2756</td>\n",
       "      <td>76.66</td>\n",
       "      <td>264.16</td>\n",
       "      <td>-385.74</td>\n",
       "      <td>27044.99023</td>\n",
       "      <td>131.0</td>\n",
       "      <td>0.24770</td>\n",
       "    </tr>\n",
       "    <tr>\n",
       "      <td>2</td>\n",
       "      <td>561332</td>\n",
       "      <td>-16.50</td>\n",
       "      <td>-70.50</td>\n",
       "      <td>8137.00</td>\n",
       "      <td>890.00</td>\n",
       "      <td>-114.50</td>\n",
       "      <td>20102.50</td>\n",
       "      <td>-16.00</td>\n",
       "      <td>-68.50</td>\n",
       "      <td>10534.50</td>\n",
       "      <td>...</td>\n",
       "      <td>631.2901</td>\n",
       "      <td>-86.9124</td>\n",
       "      <td>183.4385</td>\n",
       "      <td>87.2855</td>\n",
       "      <td>76.66</td>\n",
       "      <td>264.16</td>\n",
       "      <td>-385.74</td>\n",
       "      <td>27044.99219</td>\n",
       "      <td>131.0</td>\n",
       "      <td>0.18655</td>\n",
       "    </tr>\n",
       "    <tr>\n",
       "      <td>3</td>\n",
       "      <td>561333</td>\n",
       "      <td>-41.25</td>\n",
       "      <td>-77.75</td>\n",
       "      <td>8143.25</td>\n",
       "      <td>889.50</td>\n",
       "      <td>-114.25</td>\n",
       "      <td>20103.75</td>\n",
       "      <td>-46.50</td>\n",
       "      <td>-75.75</td>\n",
       "      <td>10541.75</td>\n",
       "      <td>...</td>\n",
       "      <td>630.8964</td>\n",
       "      <td>-86.7172</td>\n",
       "      <td>183.8801</td>\n",
       "      <td>86.7733</td>\n",
       "      <td>76.66</td>\n",
       "      <td>264.16</td>\n",
       "      <td>-385.74</td>\n",
       "      <td>27044.99219</td>\n",
       "      <td>131.0</td>\n",
       "      <td>0.02805</td>\n",
       "    </tr>\n",
       "    <tr>\n",
       "      <td>4</td>\n",
       "      <td>561334</td>\n",
       "      <td>-43.00</td>\n",
       "      <td>-81.00</td>\n",
       "      <td>8145.75</td>\n",
       "      <td>889.50</td>\n",
       "      <td>-114.50</td>\n",
       "      <td>20102.00</td>\n",
       "      <td>-46.00</td>\n",
       "      <td>-78.25</td>\n",
       "      <td>10540.75</td>\n",
       "      <td>...</td>\n",
       "      <td>630.9512</td>\n",
       "      <td>-86.9146</td>\n",
       "      <td>184.1861</td>\n",
       "      <td>86.6071</td>\n",
       "      <td>76.66</td>\n",
       "      <td>264.16</td>\n",
       "      <td>-385.74</td>\n",
       "      <td>27044.99414</td>\n",
       "      <td>131.0</td>\n",
       "      <td>-0.15375</td>\n",
       "    </tr>\n",
       "    <tr>\n",
       "      <td>...</td>\n",
       "      <td>...</td>\n",
       "      <td>...</td>\n",
       "      <td>...</td>\n",
       "      <td>...</td>\n",
       "      <td>...</td>\n",
       "      <td>...</td>\n",
       "      <td>...</td>\n",
       "      <td>...</td>\n",
       "      <td>...</td>\n",
       "      <td>...</td>\n",
       "      <td>...</td>\n",
       "      <td>...</td>\n",
       "      <td>...</td>\n",
       "      <td>...</td>\n",
       "      <td>...</td>\n",
       "      <td>...</td>\n",
       "      <td>...</td>\n",
       "      <td>...</td>\n",
       "      <td>...</td>\n",
       "      <td>...</td>\n",
       "      <td>...</td>\n",
       "    </tr>\n",
       "    <tr>\n",
       "      <td>3153</td>\n",
       "      <td>564607</td>\n",
       "      <td>-45.25</td>\n",
       "      <td>325.25</td>\n",
       "      <td>8167.00</td>\n",
       "      <td>931.75</td>\n",
       "      <td>216.00</td>\n",
       "      <td>20109.00</td>\n",
       "      <td>-60.75</td>\n",
       "      <td>345.00</td>\n",
       "      <td>10615.25</td>\n",
       "      <td>...</td>\n",
       "      <td>660.6904</td>\n",
       "      <td>163.9039</td>\n",
       "      <td>162.8256</td>\n",
       "      <td>243.2239</td>\n",
       "      <td>76.66</td>\n",
       "      <td>264.16</td>\n",
       "      <td>-385.74</td>\n",
       "      <td>27048.27344</td>\n",
       "      <td>131.0</td>\n",
       "      <td>3.56390</td>\n",
       "    </tr>\n",
       "    <tr>\n",
       "      <td>3154</td>\n",
       "      <td>564608</td>\n",
       "      <td>-35.33</td>\n",
       "      <td>330.00</td>\n",
       "      <td>8171.67</td>\n",
       "      <td>931.67</td>\n",
       "      <td>216.67</td>\n",
       "      <td>20105.00</td>\n",
       "      <td>-39.00</td>\n",
       "      <td>338.33</td>\n",
       "      <td>10605.67</td>\n",
       "      <td>...</td>\n",
       "      <td>660.7628</td>\n",
       "      <td>164.4425</td>\n",
       "      <td>163.0029</td>\n",
       "      <td>243.8335</td>\n",
       "      <td>76.66</td>\n",
       "      <td>264.16</td>\n",
       "      <td>-385.74</td>\n",
       "      <td>27048.27344</td>\n",
       "      <td>131.0</td>\n",
       "      <td>4.13800</td>\n",
       "    </tr>\n",
       "    <tr>\n",
       "      <td>3155</td>\n",
       "      <td>564609</td>\n",
       "      <td>-32.33</td>\n",
       "      <td>333.00</td>\n",
       "      <td>8173.67</td>\n",
       "      <td>932.33</td>\n",
       "      <td>216.67</td>\n",
       "      <td>20109.00</td>\n",
       "      <td>-30.00</td>\n",
       "      <td>336.33</td>\n",
       "      <td>10598.33</td>\n",
       "      <td>...</td>\n",
       "      <td>661.1039</td>\n",
       "      <td>164.4098</td>\n",
       "      <td>162.8055</td>\n",
       "      <td>243.1545</td>\n",
       "      <td>76.66</td>\n",
       "      <td>264.16</td>\n",
       "      <td>-385.74</td>\n",
       "      <td>27048.27539</td>\n",
       "      <td>131.0</td>\n",
       "      <td>3.78215</td>\n",
       "    </tr>\n",
       "    <tr>\n",
       "      <td>3156</td>\n",
       "      <td>564610</td>\n",
       "      <td>-26.67</td>\n",
       "      <td>332.33</td>\n",
       "      <td>8174.67</td>\n",
       "      <td>932.00</td>\n",
       "      <td>217.67</td>\n",
       "      <td>20113.33</td>\n",
       "      <td>-23.33</td>\n",
       "      <td>335.33</td>\n",
       "      <td>10595.33</td>\n",
       "      <td>...</td>\n",
       "      <td>660.7253</td>\n",
       "      <td>165.1330</td>\n",
       "      <td>162.8282</td>\n",
       "      <td>242.9611</td>\n",
       "      <td>76.66</td>\n",
       "      <td>264.16</td>\n",
       "      <td>-385.74</td>\n",
       "      <td>27048.27539</td>\n",
       "      <td>131.0</td>\n",
       "      <td>4.04705</td>\n",
       "    </tr>\n",
       "    <tr>\n",
       "      <td>3157</td>\n",
       "      <td>564611</td>\n",
       "      <td>-33.00</td>\n",
       "      <td>331.00</td>\n",
       "      <td>8170.00</td>\n",
       "      <td>932.00</td>\n",
       "      <td>215.00</td>\n",
       "      <td>20112.00</td>\n",
       "      <td>-34.00</td>\n",
       "      <td>342.00</td>\n",
       "      <td>10601.00</td>\n",
       "      <td>...</td>\n",
       "      <td>660.7690</td>\n",
       "      <td>163.1208</td>\n",
       "      <td>163.0166</td>\n",
       "      <td>242.9441</td>\n",
       "      <td>76.66</td>\n",
       "      <td>264.16</td>\n",
       "      <td>-385.74</td>\n",
       "      <td>27048.27734</td>\n",
       "      <td>131.0</td>\n",
       "      <td>3.03245</td>\n",
       "    </tr>\n",
       "  </tbody>\n",
       "</table>\n",
       "<p>3158 rows × 34 columns</p>\n",
       "</div>"
      ],
      "text/plain": [
       "      CycleCount  A_PsdX  A_PsdY  A_PsdSum  A_LeverX  A_LeverY  A_LeverSum  \\\n",
       "0         561330  -19.67  -72.00   8136.33    889.33   -113.67    20100.00   \n",
       "1         561331  -17.00  -70.00   8137.00    891.00   -113.00    20101.00   \n",
       "2         561332  -16.50  -70.50   8137.00    890.00   -114.50    20102.50   \n",
       "3         561333  -41.25  -77.75   8143.25    889.50   -114.25    20103.75   \n",
       "4         561334  -43.00  -81.00   8145.75    889.50   -114.50    20102.00   \n",
       "...          ...     ...     ...       ...       ...       ...         ...   \n",
       "3153      564607  -45.25  325.25   8167.00    931.75    216.00    20109.00   \n",
       "3154      564608  -35.33  330.00   8171.67    931.67    216.67    20105.00   \n",
       "3155      564609  -32.33  333.00   8173.67    932.33    216.67    20109.00   \n",
       "3156      564610  -26.67  332.33   8174.67    932.00    217.67    20113.33   \n",
       "3157      564611  -33.00  331.00   8170.00    932.00    215.00    20112.00   \n",
       "\n",
       "      B_PsdX  B_PsdY  B_PsdSum  ...  A_dist-X  A_dist-Y  B_dist-X  B_dist-Y  \\\n",
       "0     -23.00  -72.33  10539.00  ...  630.8957  -86.2905  184.3088   86.4815   \n",
       "1     -20.00  -69.00  10535.00  ...  632.0466  -85.7802  184.3526   86.2756   \n",
       "2     -16.00  -68.50  10534.50  ...  631.2901  -86.9124  183.4385   87.2855   \n",
       "3     -46.50  -75.75  10541.75  ...  630.8964  -86.7172  183.8801   86.7733   \n",
       "4     -46.00  -78.25  10540.75  ...  630.9512  -86.9146  184.1861   86.6071   \n",
       "...      ...     ...       ...  ...       ...       ...       ...       ...   \n",
       "3153  -60.75  345.00  10615.25  ...  660.6904  163.9039  162.8256  243.2239   \n",
       "3154  -39.00  338.33  10605.67  ...  660.7628  164.4425  163.0029  243.8335   \n",
       "3155  -30.00  336.33  10598.33  ...  661.1039  164.4098  162.8055  243.1545   \n",
       "3156  -23.33  335.33  10595.33  ...  660.7253  165.1330  162.8282  242.9611   \n",
       "3157  -34.00  342.00  10601.00  ...  660.7690  163.1208  163.0166  242.9441   \n",
       "\n",
       "      Motor_X  Motor_Y  Motor_Z    time(sec)  Status   lambda  \n",
       "0       76.66   264.16  -385.74  27044.99023   131.0  0.09550  \n",
       "1       76.66   264.16  -385.74  27044.99023   131.0  0.24770  \n",
       "2       76.66   264.16  -385.74  27044.99219   131.0  0.18655  \n",
       "3       76.66   264.16  -385.74  27044.99219   131.0  0.02805  \n",
       "4       76.66   264.16  -385.74  27044.99414   131.0 -0.15375  \n",
       "...       ...      ...      ...          ...     ...      ...  \n",
       "3153    76.66   264.16  -385.74  27048.27344   131.0  3.56390  \n",
       "3154    76.66   264.16  -385.74  27048.27344   131.0  4.13800  \n",
       "3155    76.66   264.16  -385.74  27048.27539   131.0  3.78215  \n",
       "3156    76.66   264.16  -385.74  27048.27539   131.0  4.04705  \n",
       "3157    76.66   264.16  -385.74  27048.27734   131.0  3.03245  \n",
       "\n",
       "[3158 rows x 34 columns]"
      ]
     },
     "execution_count": 205,
     "metadata": {},
     "output_type": "execute_result"
    }
   ],
   "source": [
    "import pandas as pd\n",
    "\n",
    "data = []\n",
    "data.append(pd.read_fwf('Pulling_3bs/16u86.txt'))\n",
    "data_frame = pd.concat([j for j in data], ignore_index=True) # I add together all the datasets\n",
    "data_frame"
   ]
  },
  {
   "cell_type": "code",
   "execution_count": 206,
   "metadata": {},
   "outputs": [
    {
     "data": {
      "text/plain": [
       "27044.99023"
      ]
     },
     "execution_count": 206,
     "metadata": {},
     "output_type": "execute_result"
    }
   ],
   "source": [
    "data_frame.loc[0].at['time(sec)']"
   ]
  },
  {
   "cell_type": "code",
   "execution_count": 209,
   "metadata": {},
   "outputs": [
    {
     "data": {
      "text/plain": [
       "27048.277339999997"
      ]
     },
     "execution_count": 209,
     "metadata": {},
     "output_type": "execute_result"
    }
   ],
   "source": [
    "data_frame.loc[data_frame.shape[0]-1].at['time(sec)']"
   ]
  },
  {
   "cell_type": "code",
   "execution_count": null,
   "metadata": {},
   "outputs": [],
   "source": []
  },
  {
   "cell_type": "code",
   "execution_count": 2,
   "metadata": {},
   "outputs": [
    {
     "ename": "NameError",
     "evalue": "name 'pd' is not defined",
     "output_type": "error",
     "traceback": [
      "\u001b[1;31m---------------------------------------------------------------------------\u001b[0m",
      "\u001b[1;31mNameError\u001b[0m                                 Traceback (most recent call last)",
      "\u001b[1;32m<ipython-input-2-2514fb2e3c74>\u001b[0m in \u001b[0;36m<module>\u001b[1;34m\u001b[0m\n\u001b[0;32m      5\u001b[0m \t\t\t\t\t11867, 11739, -11579, 11363],\n\u001b[0;32m      6\u001b[0m \t\t\t'status': [30, 130, 131, 31, 130, 130, 131, 131, 131]}\n\u001b[1;32m----> 7\u001b[1;33m \u001b[0mdf\u001b[0m \u001b[1;33m=\u001b[0m \u001b[0mpd\u001b[0m\u001b[1;33m.\u001b[0m\u001b[0mDataFrame\u001b[0m\u001b[1;33m(\u001b[0m\u001b[0mODI_runs\u001b[0m\u001b[1;33m)\u001b[0m\u001b[1;33m\u001b[0m\u001b[1;33m\u001b[0m\u001b[0m\n\u001b[0m",
      "\u001b[1;31mNameError\u001b[0m: name 'pd' is not defined"
     ]
    }
   ],
   "source": [
    "ODI_runs = {'name': ['Tendulkar', 'Sangakkara', 'Ponting',\n",
    "\t\t\t\t\t'Jayasurya', 'Jayawardene', 'Kohli',\n",
    "\t\t\t\t\t'Haq', 'Kallis', 'Ganguly'],\n",
    "\t\t\t'runs': [-18426, 14234, 13704, 13430, -12650,\n",
    "\t\t\t\t\t11867, 11739, -11579, 11363],\n",
    "\t\t\t'status': [30, 130, 131, 31, 130, 130, 131, 131, 131]}\n",
    "df = pd.DataFrame(ODI_runs)\n"
   ]
  },
  {
   "cell_type": "code",
   "execution_count": 214,
   "metadata": {},
   "outputs": [
    {
     "data": {
      "text/html": [
       "<div>\n",
       "<style scoped>\n",
       "    .dataframe tbody tr th:only-of-type {\n",
       "        vertical-align: middle;\n",
       "    }\n",
       "\n",
       "    .dataframe tbody tr th {\n",
       "        vertical-align: top;\n",
       "    }\n",
       "\n",
       "    .dataframe thead th {\n",
       "        text-align: right;\n",
       "    }\n",
       "</style>\n",
       "<table border=\"1\" class=\"dataframe\">\n",
       "  <thead>\n",
       "    <tr style=\"text-align: right;\">\n",
       "      <th></th>\n",
       "      <th>name</th>\n",
       "      <th>runs</th>\n",
       "      <th>status</th>\n",
       "    </tr>\n",
       "  </thead>\n",
       "  <tbody>\n",
       "    <tr>\n",
       "      <td>0</td>\n",
       "      <td>Tendulkar</td>\n",
       "      <td>-18426</td>\n",
       "      <td>30</td>\n",
       "    </tr>\n",
       "    <tr>\n",
       "      <td>1</td>\n",
       "      <td>Sangakkara</td>\n",
       "      <td>14234</td>\n",
       "      <td>130</td>\n",
       "    </tr>\n",
       "    <tr>\n",
       "      <td>2</td>\n",
       "      <td>Ponting</td>\n",
       "      <td>13704</td>\n",
       "      <td>131</td>\n",
       "    </tr>\n",
       "    <tr>\n",
       "      <td>3</td>\n",
       "      <td>Jayasurya</td>\n",
       "      <td>13430</td>\n",
       "      <td>31</td>\n",
       "    </tr>\n",
       "    <tr>\n",
       "      <td>4</td>\n",
       "      <td>Jayawardene</td>\n",
       "      <td>-12650</td>\n",
       "      <td>130</td>\n",
       "    </tr>\n",
       "    <tr>\n",
       "      <td>5</td>\n",
       "      <td>Kohli</td>\n",
       "      <td>11867</td>\n",
       "      <td>130</td>\n",
       "    </tr>\n",
       "    <tr>\n",
       "      <td>6</td>\n",
       "      <td>Haq</td>\n",
       "      <td>11739</td>\n",
       "      <td>131</td>\n",
       "    </tr>\n",
       "    <tr>\n",
       "      <td>7</td>\n",
       "      <td>Kallis</td>\n",
       "      <td>-11579</td>\n",
       "      <td>131</td>\n",
       "    </tr>\n",
       "    <tr>\n",
       "      <td>8</td>\n",
       "      <td>Ganguly</td>\n",
       "      <td>11363</td>\n",
       "      <td>131</td>\n",
       "    </tr>\n",
       "  </tbody>\n",
       "</table>\n",
       "</div>"
      ],
      "text/plain": [
       "          name   runs  status\n",
       "0    Tendulkar -18426      30\n",
       "1   Sangakkara  14234     130\n",
       "2      Ponting  13704     131\n",
       "3    Jayasurya  13430      31\n",
       "4  Jayawardene -12650     130\n",
       "5        Kohli  11867     130\n",
       "6          Haq  11739     131\n",
       "7       Kallis -11579     131\n",
       "8      Ganguly  11363     131"
      ]
     },
     "execution_count": 214,
     "metadata": {},
     "output_type": "execute_result"
    }
   ],
   "source": [
    "df"
   ]
  },
  {
   "cell_type": "code",
   "execution_count": 220,
   "metadata": {},
   "outputs": [
    {
     "name": "stdout",
     "output_type": "stream",
     "text": [
      "[ 32660.   -530.   -274. -26080.      0.]\n",
      "(array([3], dtype=int64),)\n"
     ]
    },
    {
     "data": {
      "text/plain": [
       "11867"
      ]
     },
     "execution_count": 220,
     "metadata": {},
     "output_type": "execute_result"
    }
   ],
   "source": [
    "ciao = np.zeros(5)\n",
    "for i in range(ciao.size-1):\n",
    "\tciao[i] = df['runs'].loc[i+1] - df['runs'].loc[i]\n",
    "print(ciao)\n",
    "res = np.where(ciao == ciao.min())\n",
    "print(res)\n",
    "df['runs'][res[0]*2-1].values[0]"
   ]
  },
  {
   "cell_type": "code",
   "execution_count": 222,
   "metadata": {},
   "outputs": [
    {
     "data": {
      "text/plain": [
       "11867"
      ]
     },
     "execution_count": 222,
     "metadata": {},
     "output_type": "execute_result"
    }
   ],
   "source": [
    "df['runs'][res[0]*2-1].values[0]"
   ]
  },
  {
   "cell_type": "code",
   "execution_count": 227,
   "metadata": {},
   "outputs": [
    {
     "data": {
      "text/plain": [
       "5"
      ]
     },
     "execution_count": 227,
     "metadata": {},
     "output_type": "execute_result"
    }
   ],
   "source": [
    "np.where(df['runs'].values == 11867)[0][0]"
   ]
  },
  {
   "cell_type": "code",
   "execution_count": 228,
   "metadata": {},
   "outputs": [],
   "source": [
    "sub_row = df.loc[df.index[df['runs'] == 11867].tolist()]"
   ]
  },
  {
   "cell_type": "code",
   "execution_count": 229,
   "metadata": {},
   "outputs": [
    {
     "data": {
      "text/html": [
       "<div>\n",
       "<style scoped>\n",
       "    .dataframe tbody tr th:only-of-type {\n",
       "        vertical-align: middle;\n",
       "    }\n",
       "\n",
       "    .dataframe tbody tr th {\n",
       "        vertical-align: top;\n",
       "    }\n",
       "\n",
       "    .dataframe thead th {\n",
       "        text-align: right;\n",
       "    }\n",
       "</style>\n",
       "<table border=\"1\" class=\"dataframe\">\n",
       "  <thead>\n",
       "    <tr style=\"text-align: right;\">\n",
       "      <th></th>\n",
       "      <th>name</th>\n",
       "      <th>runs</th>\n",
       "      <th>status</th>\n",
       "    </tr>\n",
       "  </thead>\n",
       "  <tbody>\n",
       "    <tr>\n",
       "      <td>5</td>\n",
       "      <td>Kohli</td>\n",
       "      <td>11867</td>\n",
       "      <td>130</td>\n",
       "    </tr>\n",
       "  </tbody>\n",
       "</table>\n",
       "</div>"
      ],
      "text/plain": [
       "    name   runs  status\n",
       "5  Kohli  11867     130"
      ]
     },
     "execution_count": 229,
     "metadata": {},
     "output_type": "execute_result"
    }
   ],
   "source": [
    "sub_row"
   ]
  },
  {
   "cell_type": "code",
   "execution_count": 234,
   "metadata": {},
   "outputs": [
    {
     "data": {
      "text/plain": [
       "1    14234\n",
       "2    13704\n",
       "3    13430\n",
       "4   -12650\n",
       "5    11867\n",
       "Name: runs, dtype: int64"
      ]
     },
     "execution_count": 234,
     "metadata": {},
     "output_type": "execute_result"
    }
   ],
   "source": [
    "df['runs'].loc[1:5]"
   ]
  },
  {
   "cell_type": "code",
   "execution_count": 236,
   "metadata": {},
   "outputs": [],
   "source": [
    "median = df['runs'].loc[1:5].median()"
   ]
  },
  {
   "cell_type": "code",
   "execution_count": 237,
   "metadata": {},
   "outputs": [],
   "source": [
    "sub_row = df.loc[df.index[df['runs'] == median].tolist()]"
   ]
  },
  {
   "cell_type": "code",
   "execution_count": 241,
   "metadata": {},
   "outputs": [
    {
     "data": {
      "text/html": [
       "<div>\n",
       "<style scoped>\n",
       "    .dataframe tbody tr th:only-of-type {\n",
       "        vertical-align: middle;\n",
       "    }\n",
       "\n",
       "    .dataframe tbody tr th {\n",
       "        vertical-align: top;\n",
       "    }\n",
       "\n",
       "    .dataframe thead th {\n",
       "        text-align: right;\n",
       "    }\n",
       "</style>\n",
       "<table border=\"1\" class=\"dataframe\">\n",
       "  <thead>\n",
       "    <tr style=\"text-align: right;\">\n",
       "      <th></th>\n",
       "      <th>name</th>\n",
       "      <th>runs</th>\n",
       "      <th>status</th>\n",
       "    </tr>\n",
       "  </thead>\n",
       "  <tbody>\n",
       "    <tr>\n",
       "      <td>0</td>\n",
       "      <td>Tendulkar</td>\n",
       "      <td>-18426</td>\n",
       "      <td>30</td>\n",
       "    </tr>\n",
       "    <tr>\n",
       "      <td>1</td>\n",
       "      <td>Sangakkara</td>\n",
       "      <td>14234</td>\n",
       "      <td>130</td>\n",
       "    </tr>\n",
       "    <tr>\n",
       "      <td>2</td>\n",
       "      <td>Ponting</td>\n",
       "      <td>13704</td>\n",
       "      <td>131</td>\n",
       "    </tr>\n",
       "    <tr>\n",
       "      <td>3</td>\n",
       "      <td>Jayasurya</td>\n",
       "      <td>13430</td>\n",
       "      <td>31</td>\n",
       "    </tr>\n",
       "    <tr>\n",
       "      <td>4</td>\n",
       "      <td>Jayawardene</td>\n",
       "      <td>-12650</td>\n",
       "      <td>130</td>\n",
       "    </tr>\n",
       "    <tr>\n",
       "      <td>5</td>\n",
       "      <td>Kohli</td>\n",
       "      <td>11867</td>\n",
       "      <td>130</td>\n",
       "    </tr>\n",
       "    <tr>\n",
       "      <td>6</td>\n",
       "      <td>Haq</td>\n",
       "      <td>11739</td>\n",
       "      <td>131</td>\n",
       "    </tr>\n",
       "    <tr>\n",
       "      <td>7</td>\n",
       "      <td>Kallis</td>\n",
       "      <td>-11579</td>\n",
       "      <td>131</td>\n",
       "    </tr>\n",
       "    <tr>\n",
       "      <td>8</td>\n",
       "      <td>Ganguly</td>\n",
       "      <td>11363</td>\n",
       "      <td>131</td>\n",
       "    </tr>\n",
       "  </tbody>\n",
       "</table>\n",
       "</div>"
      ],
      "text/plain": [
       "          name   runs  status\n",
       "0    Tendulkar -18426      30\n",
       "1   Sangakkara  14234     130\n",
       "2      Ponting  13704     131\n",
       "3    Jayasurya  13430      31\n",
       "4  Jayawardene -12650     130\n",
       "5        Kohli  11867     130\n",
       "6          Haq  11739     131\n",
       "7       Kallis -11579     131\n",
       "8      Ganguly  11363     131"
      ]
     },
     "execution_count": 241,
     "metadata": {},
     "output_type": "execute_result"
    }
   ],
   "source": [
    "df"
   ]
  },
  {
   "cell_type": "code",
   "execution_count": 262,
   "metadata": {},
   "outputs": [],
   "source": [
    "df_empty = pd.DataFrame(columns = df.columns)\n",
    "for i in range(df.shape[0]-2):\n",
    "    median = df['runs'].loc[i:i+2].median()\n",
    "    sub_row = df.loc[df.index[df['runs'] == median].tolist()]\n",
    "    df_empty = df_empty.append(sub_row, ignore_index=False)\n",
    "df_empty = df_empty.reset_index()\n",
    "df_empty = df_empty.drop(['index'], axis=1)"
   ]
  },
  {
   "cell_type": "code",
   "execution_count": 263,
   "metadata": {},
   "outputs": [],
   "source": [
    "df_empty2 = df_empty[['runs', 'status']].copy()"
   ]
  },
  {
   "cell_type": "code",
   "execution_count": 264,
   "metadata": {},
   "outputs": [
    {
     "data": {
      "text/html": [
       "<div>\n",
       "<style scoped>\n",
       "    .dataframe tbody tr th:only-of-type {\n",
       "        vertical-align: middle;\n",
       "    }\n",
       "\n",
       "    .dataframe tbody tr th {\n",
       "        vertical-align: top;\n",
       "    }\n",
       "\n",
       "    .dataframe thead th {\n",
       "        text-align: right;\n",
       "    }\n",
       "</style>\n",
       "<table border=\"1\" class=\"dataframe\">\n",
       "  <thead>\n",
       "    <tr style=\"text-align: right;\">\n",
       "      <th></th>\n",
       "      <th>runs</th>\n",
       "      <th>status</th>\n",
       "    </tr>\n",
       "  </thead>\n",
       "  <tbody>\n",
       "    <tr>\n",
       "      <td>0</td>\n",
       "      <td>13704</td>\n",
       "      <td>131</td>\n",
       "    </tr>\n",
       "    <tr>\n",
       "      <td>1</td>\n",
       "      <td>13704</td>\n",
       "      <td>131</td>\n",
       "    </tr>\n",
       "    <tr>\n",
       "      <td>2</td>\n",
       "      <td>13430</td>\n",
       "      <td>31</td>\n",
       "    </tr>\n",
       "    <tr>\n",
       "      <td>3</td>\n",
       "      <td>11867</td>\n",
       "      <td>130</td>\n",
       "    </tr>\n",
       "    <tr>\n",
       "      <td>4</td>\n",
       "      <td>11739</td>\n",
       "      <td>131</td>\n",
       "    </tr>\n",
       "    <tr>\n",
       "      <td>5</td>\n",
       "      <td>11739</td>\n",
       "      <td>131</td>\n",
       "    </tr>\n",
       "    <tr>\n",
       "      <td>6</td>\n",
       "      <td>11363</td>\n",
       "      <td>131</td>\n",
       "    </tr>\n",
       "  </tbody>\n",
       "</table>\n",
       "</div>"
      ],
      "text/plain": [
       "    runs status\n",
       "0  13704    131\n",
       "1  13704    131\n",
       "2  13430     31\n",
       "3  11867    130\n",
       "4  11739    131\n",
       "5  11739    131\n",
       "6  11363    131"
      ]
     },
     "execution_count": 264,
     "metadata": {},
     "output_type": "execute_result"
    }
   ],
   "source": [
    "df_empty2"
   ]
  },
  {
   "cell_type": "code",
   "execution_count": 5,
   "metadata": {},
   "outputs": [
    {
     "data": {
      "text/plain": [
       "array([13704, 13704, 13704, 13430, 12650, 11867, 11739, 11579, 11363,\n",
       "       10889], dtype=int64)"
      ]
     },
     "execution_count": 5,
     "metadata": {},
     "output_type": "execute_result"
    }
   ],
   "source": [
    "from scipy.signal import medfilt\n",
    "y1 = medfilt(df['runs'], kernel_size=5)\n",
    "y1"
   ]
  },
  {
   "cell_type": "code",
   "execution_count": 7,
   "metadata": {},
   "outputs": [],
   "source": [
    "df_empty = pd.DataFrame(columns = df.columns)\n",
    "for i in range(df.shape[0]-2):\n",
    "    y1 = medfilt(df['runs'], kernel_size=3)\n",
    "    sub_row = df.loc[df.index[df['runs'] == y1[i]].tolist()]\n",
    "    df_empty = df_empty.append(sub_row, ignore_index=False)\n",
    "df_empty = df_empty.reset_index()\n",
    "df_empty = df_empty.drop(['index'], axis=1)"
   ]
  },
  {
   "cell_type": "code",
   "execution_count": 10,
   "metadata": {},
   "outputs": [
    {
     "data": {
      "text/plain": [
       "18426"
      ]
     },
     "execution_count": 10,
     "metadata": {},
     "output_type": "execute_result"
    }
   ],
   "source": [
    "df['runs'].loc[0]"
   ]
  },
  {
   "cell_type": "code",
   "execution_count": 11,
   "metadata": {},
   "outputs": [
    {
     "data": {
      "text/html": [
       "<div>\n",
       "<style scoped>\n",
       "    .dataframe tbody tr th:only-of-type {\n",
       "        vertical-align: middle;\n",
       "    }\n",
       "\n",
       "    .dataframe tbody tr th {\n",
       "        vertical-align: top;\n",
       "    }\n",
       "\n",
       "    .dataframe thead th {\n",
       "        text-align: right;\n",
       "    }\n",
       "</style>\n",
       "<table border=\"1\" class=\"dataframe\">\n",
       "  <thead>\n",
       "    <tr style=\"text-align: right;\">\n",
       "      <th></th>\n",
       "      <th>name</th>\n",
       "      <th>runs</th>\n",
       "      <th>status</th>\n",
       "    </tr>\n",
       "  </thead>\n",
       "  <tbody>\n",
       "    <tr>\n",
       "      <td>0</td>\n",
       "      <td>Sangakkara</td>\n",
       "      <td>14234</td>\n",
       "      <td>130</td>\n",
       "    </tr>\n",
       "    <tr>\n",
       "      <td>1</td>\n",
       "      <td>Sangakkara</td>\n",
       "      <td>14234</td>\n",
       "      <td>130</td>\n",
       "    </tr>\n",
       "    <tr>\n",
       "      <td>2</td>\n",
       "      <td>Ponting</td>\n",
       "      <td>13704</td>\n",
       "      <td>131</td>\n",
       "    </tr>\n",
       "    <tr>\n",
       "      <td>3</td>\n",
       "      <td>Jayasurya</td>\n",
       "      <td>13430</td>\n",
       "      <td>31</td>\n",
       "    </tr>\n",
       "    <tr>\n",
       "      <td>4</td>\n",
       "      <td>Jayawardene</td>\n",
       "      <td>12650</td>\n",
       "      <td>130</td>\n",
       "    </tr>\n",
       "    <tr>\n",
       "      <td>5</td>\n",
       "      <td>Kohli</td>\n",
       "      <td>11867</td>\n",
       "      <td>130</td>\n",
       "    </tr>\n",
       "    <tr>\n",
       "      <td>6</td>\n",
       "      <td>Haq</td>\n",
       "      <td>11739</td>\n",
       "      <td>131</td>\n",
       "    </tr>\n",
       "    <tr>\n",
       "      <td>7</td>\n",
       "      <td>Kallis</td>\n",
       "      <td>11579</td>\n",
       "      <td>131</td>\n",
       "    </tr>\n",
       "  </tbody>\n",
       "</table>\n",
       "</div>"
      ],
      "text/plain": [
       "          name   runs status\n",
       "0   Sangakkara  14234    130\n",
       "1   Sangakkara  14234    130\n",
       "2      Ponting  13704    131\n",
       "3    Jayasurya  13430     31\n",
       "4  Jayawardene  12650    130\n",
       "5        Kohli  11867    130\n",
       "6          Haq  11739    131\n",
       "7       Kallis  11579    131"
      ]
     },
     "execution_count": 11,
     "metadata": {},
     "output_type": "execute_result"
    }
   ],
   "source": [
    "df_empty"
   ]
  },
  {
   "cell_type": "code",
   "execution_count": 25,
   "metadata": {},
   "outputs": [],
   "source": [
    "def func(arr, i):\n",
    "    j = [k for k in arr if k in range(i, i+5)]\n",
    "    return j"
   ]
  },
  {
   "cell_type": "code",
   "execution_count": 26,
   "metadata": {},
   "outputs": [
    {
     "data": {
      "text/html": [
       "<div>\n",
       "<style scoped>\n",
       "    .dataframe tbody tr th:only-of-type {\n",
       "        vertical-align: middle;\n",
       "    }\n",
       "\n",
       "    .dataframe tbody tr th {\n",
       "        vertical-align: top;\n",
       "    }\n",
       "\n",
       "    .dataframe thead th {\n",
       "        text-align: right;\n",
       "    }\n",
       "</style>\n",
       "<table border=\"1\" class=\"dataframe\">\n",
       "  <thead>\n",
       "    <tr style=\"text-align: right;\">\n",
       "      <th></th>\n",
       "      <th>name</th>\n",
       "      <th>runs</th>\n",
       "      <th>status</th>\n",
       "    </tr>\n",
       "  </thead>\n",
       "  <tbody>\n",
       "    <tr>\n",
       "      <td>3</td>\n",
       "      <td>Jayasurya</td>\n",
       "      <td>13430</td>\n",
       "      <td>31</td>\n",
       "    </tr>\n",
       "  </tbody>\n",
       "</table>\n",
       "</div>"
      ],
      "text/plain": [
       "        name   runs  status\n",
       "3  Jayasurya  13430      31"
      ]
     },
     "execution_count": 26,
     "metadata": {},
     "output_type": "execute_result"
    }
   ],
   "source": [
    "df.loc[func(df.loc[1:3:2].index.to_list(), 2)]"
   ]
  }
 ],
 "metadata": {
  "interpreter": {
   "hash": "b4fbe74a0bbc43fac57c027a0570e294bb797d46e535ed846abed24b280cdda4"
  },
  "kernelspec": {
   "display_name": "Python 3.7.4 ('base')",
   "language": "python",
   "name": "python3"
  },
  "language_info": {
   "codemirror_mode": {
    "name": "ipython",
    "version": 3
   },
   "file_extension": ".py",
   "mimetype": "text/x-python",
   "name": "python",
   "nbconvert_exporter": "python",
   "pygments_lexer": "ipython3",
   "version": "3.7.4"
  },
  "orig_nbformat": 4
 },
 "nbformat": 4,
 "nbformat_minor": 2
}
