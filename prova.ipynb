{
 "cells": [
  {
   "cell_type": "code",
   "execution_count": 2,
   "metadata": {},
   "outputs": [
    {
     "name": "stdout",
     "output_type": "stream",
     "text": [
      "          name   runs  status\n",
      "0    Tendulkar  18426      30\n",
      "1   Sangakkara  14234     130\n",
      "2      Ponting  13704     131\n",
      "3    Jayasurya  13430      31\n",
      "4  Jayawardene  12650     130\n",
      "5        Kohli  11867     130\n",
      "6          Haq  11739     131\n",
      "7       Kallis  11579     131\n",
      "8      Ganguly  11363     131\n",
      "9       Dravid  10889     130\n"
     ]
    }
   ],
   "source": [
    "# importing the modules\n",
    "import pandas as pd\n",
    "import numpy as np\n",
    "import os.path\n",
    "\n",
    "# creating a DataFrame\n",
    "ODI_runs = {'name': ['Tendulkar', 'Sangakkara', 'Ponting',\n",
    "                     'Jayasurya', 'Jayawardene', 'Kohli',\n",
    "                     'Haq', 'Kallis', 'Ganguly', 'Dravid'],\n",
    "            'runs': [18426, 14234, 13704, 13430, 12650,\n",
    "                     11867, 11739, 11579, 11363, 10889],\n",
    "            'status': [30, 130, 131, 31, 130, 130, 131, 131, 131, 130]}\n",
    "df = pd.DataFrame(ODI_runs)\n",
    "\n",
    "print(df)\n",
    "# # displaying the original DataFrame\n",
    "# print(\"Original DataFrame :\")\n",
    "# print(df)\n",
    "\n",
    "# # dropping the 0th and the 1st index\n",
    "# df = df.drop([2, 3])\n",
    "\n",
    "# # displaying the altered DataFrame\n",
    "# print(\"DataFrame after removing the 0th and 1st row\")\n",
    "# print(df)\n",
    "\n",
    "# # resetting the DataFrame index\n",
    "# df = df.reset_index()\n",
    "\n",
    "# # displaying the DataFrame with new index\n",
    "# print(\"Dataframe after resetting the index\")\n",
    "# print(df)\n",
    "\n",
    "# df = df.drop(['index'], axis=1)\n",
    "# print(df)\n",
    "\n",
    "# print(df.loc[df.shape[0]-1])\n",
    "\n",
    "# if not os.path.isfile('Pulling_3bs'+'/'+'16''.txt'):\n",
    "    # print(\"Ciao\")\n",
    "\n"
   ]
  },
  {
   "cell_type": "code",
   "execution_count": 3,
   "metadata": {},
   "outputs": [
    {
     "data": {
      "text/plain": [
       "'Dravid'"
      ]
     },
     "execution_count": 3,
     "metadata": {},
     "output_type": "execute_result"
    }
   ],
   "source": [
    "df.loc[df.shape[0]-1].at['name']"
   ]
  },
  {
   "cell_type": "code",
   "execution_count": null,
   "metadata": {},
   "outputs": [],
   "source": []
  },
  {
   "cell_type": "code",
   "execution_count": 4,
   "metadata": {},
   "outputs": [
    {
     "data": {
      "text/plain": [
       "Index(['name', 'runs', 'status'], dtype='object')"
      ]
     },
     "execution_count": 4,
     "metadata": {},
     "output_type": "execute_result"
    }
   ],
   "source": [
    "df.columns"
   ]
  },
  {
   "cell_type": "code",
   "execution_count": 5,
   "metadata": {},
   "outputs": [
    {
     "data": {
      "text/html": [
       "<div>\n",
       "<style scoped>\n",
       "    .dataframe tbody tr th:only-of-type {\n",
       "        vertical-align: middle;\n",
       "    }\n",
       "\n",
       "    .dataframe tbody tr th {\n",
       "        vertical-align: top;\n",
       "    }\n",
       "\n",
       "    .dataframe thead th {\n",
       "        text-align: right;\n",
       "    }\n",
       "</style>\n",
       "<table border=\"1\" class=\"dataframe\">\n",
       "  <thead>\n",
       "    <tr style=\"text-align: right;\">\n",
       "      <th></th>\n",
       "      <th>name</th>\n",
       "      <th>runs</th>\n",
       "      <th>status</th>\n",
       "    </tr>\n",
       "  </thead>\n",
       "  <tbody>\n",
       "  </tbody>\n",
       "</table>\n",
       "</div>"
      ],
      "text/plain": [
       "Empty DataFrame\n",
       "Columns: [name, runs, status]\n",
       "Index: []"
      ]
     },
     "execution_count": 5,
     "metadata": {},
     "output_type": "execute_result"
    }
   ],
   "source": [
    "df_empty = pd.DataFrame(columns = df.columns)\n",
    "df_empty"
   ]
  },
  {
   "cell_type": "code",
   "execution_count": 6,
   "metadata": {},
   "outputs": [
    {
     "data": {
      "text/html": [
       "<div>\n",
       "<style scoped>\n",
       "    .dataframe tbody tr th:only-of-type {\n",
       "        vertical-align: middle;\n",
       "    }\n",
       "\n",
       "    .dataframe tbody tr th {\n",
       "        vertical-align: top;\n",
       "    }\n",
       "\n",
       "    .dataframe thead th {\n",
       "        text-align: right;\n",
       "    }\n",
       "</style>\n",
       "<table border=\"1\" class=\"dataframe\">\n",
       "  <thead>\n",
       "    <tr style=\"text-align: right;\">\n",
       "      <th></th>\n",
       "      <th>name</th>\n",
       "      <th>runs</th>\n",
       "      <th>status</th>\n",
       "    </tr>\n",
       "  </thead>\n",
       "  <tbody>\n",
       "  </tbody>\n",
       "</table>\n",
       "</div>"
      ],
      "text/plain": [
       "Empty DataFrame\n",
       "Columns: [name, runs, status]\n",
       "Index: []"
      ]
     },
     "execution_count": 6,
     "metadata": {},
     "output_type": "execute_result"
    }
   ],
   "source": [
    "df_empty2 = df_empty.copy()\n",
    "df_empty2"
   ]
  },
  {
   "cell_type": "code",
   "execution_count": 7,
   "metadata": {},
   "outputs": [
    {
     "data": {
      "text/plain": [
       "array(['Tendulkar', 18426, 30], dtype=object)"
      ]
     },
     "execution_count": 7,
     "metadata": {},
     "output_type": "execute_result"
    }
   ],
   "source": [
    "df.loc[0].values"
   ]
  },
  {
   "cell_type": "code",
   "execution_count": 8,
   "metadata": {},
   "outputs": [
    {
     "data": {
      "text/html": [
       "<div>\n",
       "<style scoped>\n",
       "    .dataframe tbody tr th:only-of-type {\n",
       "        vertical-align: middle;\n",
       "    }\n",
       "\n",
       "    .dataframe tbody tr th {\n",
       "        vertical-align: top;\n",
       "    }\n",
       "\n",
       "    .dataframe thead th {\n",
       "        text-align: right;\n",
       "    }\n",
       "</style>\n",
       "<table border=\"1\" class=\"dataframe\">\n",
       "  <thead>\n",
       "    <tr style=\"text-align: right;\">\n",
       "      <th></th>\n",
       "      <th>name</th>\n",
       "      <th>runs</th>\n",
       "      <th>status</th>\n",
       "    </tr>\n",
       "  </thead>\n",
       "  <tbody>\n",
       "    <tr>\n",
       "      <td>0</td>\n",
       "      <td>Tendulkar</td>\n",
       "      <td>18426</td>\n",
       "      <td>30</td>\n",
       "    </tr>\n",
       "  </tbody>\n",
       "</table>\n",
       "</div>"
      ],
      "text/plain": [
       "        name   runs status\n",
       "0  Tendulkar  18426     30"
      ]
     },
     "execution_count": 8,
     "metadata": {},
     "output_type": "execute_result"
    }
   ],
   "source": [
    "df_empty2 = df_empty2.append(df.loc[0], ignore_index=True)\n",
    "df_empty2"
   ]
  },
  {
   "cell_type": "code",
   "execution_count": 9,
   "metadata": {},
   "outputs": [
    {
     "data": {
      "text/html": [
       "<div>\n",
       "<style scoped>\n",
       "    .dataframe tbody tr th:only-of-type {\n",
       "        vertical-align: middle;\n",
       "    }\n",
       "\n",
       "    .dataframe tbody tr th {\n",
       "        vertical-align: top;\n",
       "    }\n",
       "\n",
       "    .dataframe thead th {\n",
       "        text-align: right;\n",
       "    }\n",
       "</style>\n",
       "<table border=\"1\" class=\"dataframe\">\n",
       "  <thead>\n",
       "    <tr style=\"text-align: right;\">\n",
       "      <th></th>\n",
       "      <th>name</th>\n",
       "      <th>runs</th>\n",
       "      <th>status</th>\n",
       "    </tr>\n",
       "  </thead>\n",
       "  <tbody>\n",
       "    <tr>\n",
       "      <td>0</td>\n",
       "      <td>Tendulkar</td>\n",
       "      <td>18426</td>\n",
       "      <td>30</td>\n",
       "    </tr>\n",
       "    <tr>\n",
       "      <td>1</td>\n",
       "      <td>Ponting</td>\n",
       "      <td>13704</td>\n",
       "      <td>131</td>\n",
       "    </tr>\n",
       "  </tbody>\n",
       "</table>\n",
       "</div>"
      ],
      "text/plain": [
       "        name   runs status\n",
       "0  Tendulkar  18426     30\n",
       "1    Ponting  13704    131"
      ]
     },
     "execution_count": 9,
     "metadata": {},
     "output_type": "execute_result"
    }
   ],
   "source": [
    "df_empty2 = df_empty2.append(df.loc[2], ignore_index=True)\n",
    "df_empty2"
   ]
  },
  {
   "cell_type": "code",
   "execution_count": 10,
   "metadata": {},
   "outputs": [
    {
     "data": {
      "text/html": [
       "<div>\n",
       "<style scoped>\n",
       "    .dataframe tbody tr th:only-of-type {\n",
       "        vertical-align: middle;\n",
       "    }\n",
       "\n",
       "    .dataframe tbody tr th {\n",
       "        vertical-align: top;\n",
       "    }\n",
       "\n",
       "    .dataframe thead th {\n",
       "        text-align: right;\n",
       "    }\n",
       "</style>\n",
       "<table border=\"1\" class=\"dataframe\">\n",
       "  <thead>\n",
       "    <tr style=\"text-align: right;\">\n",
       "      <th></th>\n",
       "      <th>name</th>\n",
       "      <th>runs</th>\n",
       "      <th>status</th>\n",
       "    </tr>\n",
       "  </thead>\n",
       "  <tbody>\n",
       "    <tr>\n",
       "      <td>0</td>\n",
       "      <td>Tendulkar</td>\n",
       "      <td>18426</td>\n",
       "      <td>30</td>\n",
       "    </tr>\n",
       "    <tr>\n",
       "      <td>1</td>\n",
       "      <td>Sangakkara</td>\n",
       "      <td>14234</td>\n",
       "      <td>130</td>\n",
       "    </tr>\n",
       "    <tr>\n",
       "      <td>2</td>\n",
       "      <td>Ponting</td>\n",
       "      <td>13704</td>\n",
       "      <td>131</td>\n",
       "    </tr>\n",
       "    <tr>\n",
       "      <td>3</td>\n",
       "      <td>Jayasurya</td>\n",
       "      <td>13430</td>\n",
       "      <td>31</td>\n",
       "    </tr>\n",
       "    <tr>\n",
       "      <td>4</td>\n",
       "      <td>Jayawardene</td>\n",
       "      <td>12650</td>\n",
       "      <td>130</td>\n",
       "    </tr>\n",
       "    <tr>\n",
       "      <td>5</td>\n",
       "      <td>Kohli</td>\n",
       "      <td>11867</td>\n",
       "      <td>130</td>\n",
       "    </tr>\n",
       "    <tr>\n",
       "      <td>6</td>\n",
       "      <td>Haq</td>\n",
       "      <td>11739</td>\n",
       "      <td>131</td>\n",
       "    </tr>\n",
       "    <tr>\n",
       "      <td>7</td>\n",
       "      <td>Kallis</td>\n",
       "      <td>11579</td>\n",
       "      <td>131</td>\n",
       "    </tr>\n",
       "    <tr>\n",
       "      <td>8</td>\n",
       "      <td>Ganguly</td>\n",
       "      <td>11363</td>\n",
       "      <td>131</td>\n",
       "    </tr>\n",
       "    <tr>\n",
       "      <td>9</td>\n",
       "      <td>Dravid</td>\n",
       "      <td>10889</td>\n",
       "      <td>130</td>\n",
       "    </tr>\n",
       "  </tbody>\n",
       "</table>\n",
       "</div>"
      ],
      "text/plain": [
       "          name   runs  status\n",
       "0    Tendulkar  18426      30\n",
       "1   Sangakkara  14234     130\n",
       "2      Ponting  13704     131\n",
       "3    Jayasurya  13430      31\n",
       "4  Jayawardene  12650     130\n",
       "5        Kohli  11867     130\n",
       "6          Haq  11739     131\n",
       "7       Kallis  11579     131\n",
       "8      Ganguly  11363     131\n",
       "9       Dravid  10889     130"
      ]
     },
     "execution_count": 10,
     "metadata": {},
     "output_type": "execute_result"
    }
   ],
   "source": [
    "df"
   ]
  },
  {
   "cell_type": "code",
   "execution_count": 11,
   "metadata": {},
   "outputs": [],
   "source": [
    "df_empty3 = df_empty.copy()"
   ]
  },
  {
   "cell_type": "code",
   "execution_count": 12,
   "metadata": {},
   "outputs": [],
   "source": [
    "\n",
    "df_empty2 = df_empty2.append(df_empty3, ignore_index=True)"
   ]
  },
  {
   "cell_type": "code",
   "execution_count": 13,
   "metadata": {},
   "outputs": [
    {
     "data": {
      "text/html": [
       "<div>\n",
       "<style scoped>\n",
       "    .dataframe tbody tr th:only-of-type {\n",
       "        vertical-align: middle;\n",
       "    }\n",
       "\n",
       "    .dataframe tbody tr th {\n",
       "        vertical-align: top;\n",
       "    }\n",
       "\n",
       "    .dataframe thead th {\n",
       "        text-align: right;\n",
       "    }\n",
       "</style>\n",
       "<table border=\"1\" class=\"dataframe\">\n",
       "  <thead>\n",
       "    <tr style=\"text-align: right;\">\n",
       "      <th></th>\n",
       "      <th>name</th>\n",
       "      <th>runs</th>\n",
       "      <th>status</th>\n",
       "    </tr>\n",
       "  </thead>\n",
       "  <tbody>\n",
       "    <tr>\n",
       "      <td>0</td>\n",
       "      <td>Tendulkar</td>\n",
       "      <td>18426</td>\n",
       "      <td>30</td>\n",
       "    </tr>\n",
       "    <tr>\n",
       "      <td>1</td>\n",
       "      <td>Ponting</td>\n",
       "      <td>13704</td>\n",
       "      <td>131</td>\n",
       "    </tr>\n",
       "  </tbody>\n",
       "</table>\n",
       "</div>"
      ],
      "text/plain": [
       "        name   runs status\n",
       "0  Tendulkar  18426     30\n",
       "1    Ponting  13704    131"
      ]
     },
     "execution_count": 13,
     "metadata": {},
     "output_type": "execute_result"
    }
   ],
   "source": [
    "df_empty2"
   ]
  },
  {
   "cell_type": "code",
   "execution_count": 14,
   "metadata": {},
   "outputs": [
    {
     "name": "stdout",
     "output_type": "stream",
     "text": [
      "[1, 4, 5, 9, 0]\n"
     ]
    }
   ],
   "source": [
    "# for i in range(df.shape[0]):\n",
    "# df_empty = df.loc[df['status'] == 130]\n",
    "\n",
    "# print(df_empty)\n",
    "# print(df_empty.iloc[1].index)\n",
    "\n",
    "lista = df.index[df['status'] == 130].tolist()\n",
    "lista.append(0) # qui più chiaro più avanti per fare un loop completo\n",
    "print(lista)\n",
    "# print(df.loc[0])\n",
    "# sub_lista = []\n",
    "# while len(lista) != 0:\n",
    "j = 0\n",
    "# print(df.iloc[lista[0]])\n",
    "df_empty = pd.DataFrame(columns = df.columns)\n",
    "df_empty2 = df_empty.copy()\n",
    "for i in range(len(lista)-1):\n",
    "    if lista[i+1] - lista[i] == 1:\n",
    "        # if df_empty2.empty:\n",
    "        df_empty2 = df_empty2.append(df.loc[lista[i]], ignore_index=True)\n",
    "            # print(df_empty2.index)\n",
    "        # else:\n",
    "        #     # TODO\n",
    "        #     df_empty2 = pd.concat([df_empty2.to_frame(), df.loc[lista[i]].to_frame()], ignore_index=True)\n",
    "        #     # print(df_empty2)\n",
    "    else:\n",
    "        # if df_empty2.empty:\n",
    "            # print(\"si sono vuoto al giro \", i)\n",
    "        df_empty2 = df_empty2.append(df.loc[lista[i]], ignore_index=True)\n",
    "        # else:\n",
    "        #     # TODO\n",
    "        #     # print(\"no non sono vuoto al giro \", i)\n",
    "        #     df_empty2 = pd.concat([df_empty2.to_frame(), df.loc[lista[i]].to_frame()], ignore_index=True)\n",
    "        #     # df_empty2.rename(columns=df_empty2.index)\n",
    "        #     print(df_empty2.index)\n",
    "            # df_empty2 = df_empty2.iloc[0:, :]\n",
    "        # df_empty = df.loc[lista[i]].copy()\n",
    "        # df_empty2.to_frame()\n",
    "        # df_empty2.reset_index() # MA FORSE TORNA UTILE\n",
    "        # print(df_empty2)\n",
    "        with open(os.path.join(\"Pulling_3bs\", 'Prova'+str(j)+'.txt'), 'w') as outfile:\n",
    "            df_empty2.to_string(outfile)\n",
    "        j += 1\n",
    "        df_empty2 = df_empty.iloc[0:0].copy()  # svuota il dataframe\n",
    "\n",
    "# print(df)\n"
   ]
  },
  {
   "cell_type": "code",
   "execution_count": 15,
   "metadata": {},
   "outputs": [
    {
     "data": {
      "text/html": [
       "<div>\n",
       "<style scoped>\n",
       "    .dataframe tbody tr th:only-of-type {\n",
       "        vertical-align: middle;\n",
       "    }\n",
       "\n",
       "    .dataframe tbody tr th {\n",
       "        vertical-align: top;\n",
       "    }\n",
       "\n",
       "    .dataframe thead th {\n",
       "        text-align: right;\n",
       "    }\n",
       "</style>\n",
       "<table border=\"1\" class=\"dataframe\">\n",
       "  <thead>\n",
       "    <tr style=\"text-align: right;\">\n",
       "      <th></th>\n",
       "      <th>name</th>\n",
       "      <th>runs</th>\n",
       "      <th>status</th>\n",
       "    </tr>\n",
       "  </thead>\n",
       "  <tbody>\n",
       "    <tr>\n",
       "      <td>0</td>\n",
       "      <td>Tendulkar</td>\n",
       "      <td>18426</td>\n",
       "      <td>30</td>\n",
       "    </tr>\n",
       "    <tr>\n",
       "      <td>1</td>\n",
       "      <td>Sangakkara</td>\n",
       "      <td>14234</td>\n",
       "      <td>130</td>\n",
       "    </tr>\n",
       "    <tr>\n",
       "      <td>2</td>\n",
       "      <td>Ponting</td>\n",
       "      <td>13704</td>\n",
       "      <td>131</td>\n",
       "    </tr>\n",
       "    <tr>\n",
       "      <td>3</td>\n",
       "      <td>Jayasurya</td>\n",
       "      <td>13430</td>\n",
       "      <td>31</td>\n",
       "    </tr>\n",
       "    <tr>\n",
       "      <td>4</td>\n",
       "      <td>Jayawardene</td>\n",
       "      <td>12650</td>\n",
       "      <td>130</td>\n",
       "    </tr>\n",
       "    <tr>\n",
       "      <td>5</td>\n",
       "      <td>Kohli</td>\n",
       "      <td>11867</td>\n",
       "      <td>130</td>\n",
       "    </tr>\n",
       "    <tr>\n",
       "      <td>6</td>\n",
       "      <td>Haq</td>\n",
       "      <td>11739</td>\n",
       "      <td>131</td>\n",
       "    </tr>\n",
       "    <tr>\n",
       "      <td>7</td>\n",
       "      <td>Kallis</td>\n",
       "      <td>11579</td>\n",
       "      <td>131</td>\n",
       "    </tr>\n",
       "    <tr>\n",
       "      <td>8</td>\n",
       "      <td>Ganguly</td>\n",
       "      <td>11363</td>\n",
       "      <td>131</td>\n",
       "    </tr>\n",
       "    <tr>\n",
       "      <td>9</td>\n",
       "      <td>Dravid</td>\n",
       "      <td>10889</td>\n",
       "      <td>130</td>\n",
       "    </tr>\n",
       "  </tbody>\n",
       "</table>\n",
       "</div>"
      ],
      "text/plain": [
       "          name   runs  status\n",
       "0    Tendulkar  18426      30\n",
       "1   Sangakkara  14234     130\n",
       "2      Ponting  13704     131\n",
       "3    Jayasurya  13430      31\n",
       "4  Jayawardene  12650     130\n",
       "5        Kohli  11867     130\n",
       "6          Haq  11739     131\n",
       "7       Kallis  11579     131\n",
       "8      Ganguly  11363     131\n",
       "9       Dravid  10889     130"
      ]
     },
     "execution_count": 15,
     "metadata": {},
     "output_type": "execute_result"
    }
   ],
   "source": [
    "df"
   ]
  },
  {
   "cell_type": "code",
   "execution_count": 16,
   "metadata": {},
   "outputs": [
    {
     "data": {
      "text/plain": [
       "[1, 4, 5, 9, 0]"
      ]
     },
     "execution_count": 16,
     "metadata": {},
     "output_type": "execute_result"
    }
   ],
   "source": [
    "lista"
   ]
  },
  {
   "cell_type": "code",
   "execution_count": null,
   "metadata": {},
   "outputs": [],
   "source": []
  },
  {
   "cell_type": "code",
   "execution_count": null,
   "metadata": {},
   "outputs": [],
   "source": []
  },
  {
   "cell_type": "code",
   "execution_count": 17,
   "metadata": {},
   "outputs": [
    {
     "data": {
      "text/html": [
       "<div>\n",
       "<style scoped>\n",
       "    .dataframe tbody tr th:only-of-type {\n",
       "        vertical-align: middle;\n",
       "    }\n",
       "\n",
       "    .dataframe tbody tr th {\n",
       "        vertical-align: top;\n",
       "    }\n",
       "\n",
       "    .dataframe thead th {\n",
       "        text-align: right;\n",
       "    }\n",
       "</style>\n",
       "<table border=\"1\" class=\"dataframe\">\n",
       "  <thead>\n",
       "    <tr style=\"text-align: right;\">\n",
       "      <th></th>\n",
       "      <th>X_force</th>\n",
       "      <th>Z_force</th>\n",
       "      <th>lambda</th>\n",
       "      <th>Y_force</th>\n",
       "      <th>time(sec)</th>\n",
       "    </tr>\n",
       "  </thead>\n",
       "  <tbody>\n",
       "    <tr>\n",
       "      <td>0</td>\n",
       "      <td>0.6030</td>\n",
       "      <td>0.6154</td>\n",
       "      <td>0.09550</td>\n",
       "      <td>1.7195</td>\n",
       "      <td>27044.99023</td>\n",
       "    </tr>\n",
       "    <tr>\n",
       "      <td>1</td>\n",
       "      <td>0.7217</td>\n",
       "      <td>0.5999</td>\n",
       "      <td>0.24770</td>\n",
       "      <td>1.6117</td>\n",
       "      <td>27044.99023</td>\n",
       "    </tr>\n",
       "    <tr>\n",
       "      <td>2</td>\n",
       "      <td>0.8159</td>\n",
       "      <td>0.5999</td>\n",
       "      <td>0.18655</td>\n",
       "      <td>1.6117</td>\n",
       "      <td>27044.99219</td>\n",
       "    </tr>\n",
       "    <tr>\n",
       "      <td>3</td>\n",
       "      <td>-0.3410</td>\n",
       "      <td>0.3853</td>\n",
       "      <td>0.02805</td>\n",
       "      <td>1.9046</td>\n",
       "      <td>27044.99219</td>\n",
       "    </tr>\n",
       "    <tr>\n",
       "      <td>4</td>\n",
       "      <td>-0.3672</td>\n",
       "      <td>0.3012</td>\n",
       "      <td>-0.15375</td>\n",
       "      <td>2.0208</td>\n",
       "      <td>27044.99414</td>\n",
       "    </tr>\n",
       "    <tr>\n",
       "      <td>...</td>\n",
       "      <td>...</td>\n",
       "      <td>...</td>\n",
       "      <td>...</td>\n",
       "      <td>...</td>\n",
       "      <td>...</td>\n",
       "    </tr>\n",
       "    <tr>\n",
       "      <td>3153</td>\n",
       "      <td>-0.7232</td>\n",
       "      <td>0.3389</td>\n",
       "      <td>3.56390</td>\n",
       "      <td>12.3430</td>\n",
       "      <td>27048.27344</td>\n",
       "    </tr>\n",
       "    <tr>\n",
       "      <td>3154</td>\n",
       "      <td>-0.0601</td>\n",
       "      <td>0.2055</td>\n",
       "      <td>4.13800</td>\n",
       "      <td>12.3043</td>\n",
       "      <td>27048.27344</td>\n",
       "    </tr>\n",
       "    <tr>\n",
       "      <td>3155</td>\n",
       "      <td>0.1912</td>\n",
       "      <td>0.1359</td>\n",
       "      <td>3.78215</td>\n",
       "      <td>12.3245</td>\n",
       "      <td>27048.27539</td>\n",
       "    </tr>\n",
       "    <tr>\n",
       "      <td>3156</td>\n",
       "      <td>0.4495</td>\n",
       "      <td>0.1166</td>\n",
       "      <td>4.04705</td>\n",
       "      <td>12.2908</td>\n",
       "      <td>27048.27539</td>\n",
       "    </tr>\n",
       "    <tr>\n",
       "      <td>3157</td>\n",
       "      <td>0.0935</td>\n",
       "      <td>0.2055</td>\n",
       "      <td>3.03245</td>\n",
       "      <td>12.3985</td>\n",
       "      <td>27048.27734</td>\n",
       "    </tr>\n",
       "  </tbody>\n",
       "</table>\n",
       "<p>3158 rows × 5 columns</p>\n",
       "</div>"
      ],
      "text/plain": [
       "      X_force  Z_force   lambda  Y_force    time(sec)\n",
       "0      0.6030   0.6154  0.09550   1.7195  27044.99023\n",
       "1      0.7217   0.5999  0.24770   1.6117  27044.99023\n",
       "2      0.8159   0.5999  0.18655   1.6117  27044.99219\n",
       "3     -0.3410   0.3853  0.02805   1.9046  27044.99219\n",
       "4     -0.3672   0.3012 -0.15375   2.0208  27044.99414\n",
       "...       ...      ...      ...      ...          ...\n",
       "3153  -0.7232   0.3389  3.56390  12.3430  27048.27344\n",
       "3154  -0.0601   0.2055  4.13800  12.3043  27048.27344\n",
       "3155   0.1912   0.1359  3.78215  12.3245  27048.27539\n",
       "3156   0.4495   0.1166  4.04705  12.2908  27048.27539\n",
       "3157   0.0935   0.2055  3.03245  12.3985  27048.27734\n",
       "\n",
       "[3158 rows x 5 columns]"
      ]
     },
     "execution_count": 17,
     "metadata": {},
     "output_type": "execute_result"
    }
   ],
   "source": [
    "import pandas as pd\n",
    "\n",
    "data = []\n",
    "data.append(pd.read_fwf('Pulling_3bs/16u86.txt'))\n",
    "data_frame = pd.concat([j for j in data], ignore_index=True) # I add together all the datasets\n",
    "data_frame"
   ]
  },
  {
   "cell_type": "code",
   "execution_count": 18,
   "metadata": {},
   "outputs": [
    {
     "data": {
      "text/plain": [
       "27044.99023"
      ]
     },
     "execution_count": 18,
     "metadata": {},
     "output_type": "execute_result"
    }
   ],
   "source": [
    "data_frame.loc[0].at['time(sec)']"
   ]
  },
  {
   "cell_type": "code",
   "execution_count": 19,
   "metadata": {},
   "outputs": [
    {
     "data": {
      "text/plain": [
       "27048.277339999997"
      ]
     },
     "execution_count": 19,
     "metadata": {},
     "output_type": "execute_result"
    }
   ],
   "source": [
    "data_frame.loc[data_frame.shape[0]-1].at['time(sec)']"
   ]
  },
  {
   "cell_type": "code",
   "execution_count": null,
   "metadata": {},
   "outputs": [],
   "source": []
  },
  {
   "cell_type": "code",
   "execution_count": 20,
   "metadata": {},
   "outputs": [],
   "source": [
    "ODI_runs = {'name': ['Tendulkar', 'Sangakkara', 'Ponting',\n",
    "\t\t\t\t\t'Jayasurya', 'Jayawardene', 'Kohli',\n",
    "\t\t\t\t\t'Haq', 'Kallis', 'Ganguly'],\n",
    "\t\t\t'runs': [-18426, 14234, 13704, 13430, -12650,\n",
    "\t\t\t\t\t11867, 11739, -11579, 11363],\n",
    "\t\t\t'status': [30, 130, 131, 31, 130, 130, 131, 131, 131]}\n",
    "df = pd.DataFrame(ODI_runs)\n"
   ]
  },
  {
   "cell_type": "code",
   "execution_count": 21,
   "metadata": {},
   "outputs": [
    {
     "data": {
      "text/html": [
       "<div>\n",
       "<style scoped>\n",
       "    .dataframe tbody tr th:only-of-type {\n",
       "        vertical-align: middle;\n",
       "    }\n",
       "\n",
       "    .dataframe tbody tr th {\n",
       "        vertical-align: top;\n",
       "    }\n",
       "\n",
       "    .dataframe thead th {\n",
       "        text-align: right;\n",
       "    }\n",
       "</style>\n",
       "<table border=\"1\" class=\"dataframe\">\n",
       "  <thead>\n",
       "    <tr style=\"text-align: right;\">\n",
       "      <th></th>\n",
       "      <th>name</th>\n",
       "      <th>runs</th>\n",
       "      <th>status</th>\n",
       "    </tr>\n",
       "  </thead>\n",
       "  <tbody>\n",
       "    <tr>\n",
       "      <td>0</td>\n",
       "      <td>Tendulkar</td>\n",
       "      <td>-18426</td>\n",
       "      <td>30</td>\n",
       "    </tr>\n",
       "    <tr>\n",
       "      <td>1</td>\n",
       "      <td>Sangakkara</td>\n",
       "      <td>14234</td>\n",
       "      <td>130</td>\n",
       "    </tr>\n",
       "    <tr>\n",
       "      <td>2</td>\n",
       "      <td>Ponting</td>\n",
       "      <td>13704</td>\n",
       "      <td>131</td>\n",
       "    </tr>\n",
       "    <tr>\n",
       "      <td>3</td>\n",
       "      <td>Jayasurya</td>\n",
       "      <td>13430</td>\n",
       "      <td>31</td>\n",
       "    </tr>\n",
       "    <tr>\n",
       "      <td>4</td>\n",
       "      <td>Jayawardene</td>\n",
       "      <td>-12650</td>\n",
       "      <td>130</td>\n",
       "    </tr>\n",
       "    <tr>\n",
       "      <td>5</td>\n",
       "      <td>Kohli</td>\n",
       "      <td>11867</td>\n",
       "      <td>130</td>\n",
       "    </tr>\n",
       "    <tr>\n",
       "      <td>6</td>\n",
       "      <td>Haq</td>\n",
       "      <td>11739</td>\n",
       "      <td>131</td>\n",
       "    </tr>\n",
       "    <tr>\n",
       "      <td>7</td>\n",
       "      <td>Kallis</td>\n",
       "      <td>-11579</td>\n",
       "      <td>131</td>\n",
       "    </tr>\n",
       "    <tr>\n",
       "      <td>8</td>\n",
       "      <td>Ganguly</td>\n",
       "      <td>11363</td>\n",
       "      <td>131</td>\n",
       "    </tr>\n",
       "  </tbody>\n",
       "</table>\n",
       "</div>"
      ],
      "text/plain": [
       "          name   runs  status\n",
       "0    Tendulkar -18426      30\n",
       "1   Sangakkara  14234     130\n",
       "2      Ponting  13704     131\n",
       "3    Jayasurya  13430      31\n",
       "4  Jayawardene -12650     130\n",
       "5        Kohli  11867     130\n",
       "6          Haq  11739     131\n",
       "7       Kallis -11579     131\n",
       "8      Ganguly  11363     131"
      ]
     },
     "execution_count": 21,
     "metadata": {},
     "output_type": "execute_result"
    }
   ],
   "source": [
    "df"
   ]
  },
  {
   "cell_type": "code",
   "execution_count": 22,
   "metadata": {},
   "outputs": [
    {
     "name": "stdout",
     "output_type": "stream",
     "text": [
      "[ 32660.   -530.   -274. -26080.      0.]\n",
      "(array([3], dtype=int64),)\n"
     ]
    },
    {
     "data": {
      "text/plain": [
       "11867"
      ]
     },
     "execution_count": 22,
     "metadata": {},
     "output_type": "execute_result"
    }
   ],
   "source": [
    "ciao = np.zeros(5)\n",
    "for i in range(ciao.size-1):\n",
    "\tciao[i] = df['runs'].loc[i+1] - df['runs'].loc[i]\n",
    "print(ciao)\n",
    "res = np.where(ciao == ciao.min())\n",
    "print(res)\n",
    "df['runs'][res[0]*2-1].values[0]"
   ]
  },
  {
   "cell_type": "code",
   "execution_count": 23,
   "metadata": {},
   "outputs": [
    {
     "data": {
      "text/plain": [
       "11867"
      ]
     },
     "execution_count": 23,
     "metadata": {},
     "output_type": "execute_result"
    }
   ],
   "source": [
    "df['runs'][res[0]*2-1].values[0]"
   ]
  },
  {
   "cell_type": "code",
   "execution_count": 24,
   "metadata": {},
   "outputs": [
    {
     "data": {
      "text/plain": [
       "5"
      ]
     },
     "execution_count": 24,
     "metadata": {},
     "output_type": "execute_result"
    }
   ],
   "source": [
    "np.where(df['runs'].values == 11867)[0][0]"
   ]
  },
  {
   "cell_type": "code",
   "execution_count": 25,
   "metadata": {},
   "outputs": [],
   "source": [
    "sub_row = df.loc[df.index[df['runs'] == 11867].tolist()]"
   ]
  },
  {
   "cell_type": "code",
   "execution_count": 26,
   "metadata": {},
   "outputs": [
    {
     "data": {
      "text/html": [
       "<div>\n",
       "<style scoped>\n",
       "    .dataframe tbody tr th:only-of-type {\n",
       "        vertical-align: middle;\n",
       "    }\n",
       "\n",
       "    .dataframe tbody tr th {\n",
       "        vertical-align: top;\n",
       "    }\n",
       "\n",
       "    .dataframe thead th {\n",
       "        text-align: right;\n",
       "    }\n",
       "</style>\n",
       "<table border=\"1\" class=\"dataframe\">\n",
       "  <thead>\n",
       "    <tr style=\"text-align: right;\">\n",
       "      <th></th>\n",
       "      <th>name</th>\n",
       "      <th>runs</th>\n",
       "      <th>status</th>\n",
       "    </tr>\n",
       "  </thead>\n",
       "  <tbody>\n",
       "    <tr>\n",
       "      <td>5</td>\n",
       "      <td>Kohli</td>\n",
       "      <td>11867</td>\n",
       "      <td>130</td>\n",
       "    </tr>\n",
       "  </tbody>\n",
       "</table>\n",
       "</div>"
      ],
      "text/plain": [
       "    name   runs  status\n",
       "5  Kohli  11867     130"
      ]
     },
     "execution_count": 26,
     "metadata": {},
     "output_type": "execute_result"
    }
   ],
   "source": [
    "sub_row"
   ]
  },
  {
   "cell_type": "code",
   "execution_count": 27,
   "metadata": {},
   "outputs": [
    {
     "data": {
      "text/plain": [
       "1    14234\n",
       "2    13704\n",
       "3    13430\n",
       "4   -12650\n",
       "5    11867\n",
       "Name: runs, dtype: int64"
      ]
     },
     "execution_count": 27,
     "metadata": {},
     "output_type": "execute_result"
    }
   ],
   "source": [
    "df['runs'].loc[1:5]"
   ]
  },
  {
   "cell_type": "code",
   "execution_count": 28,
   "metadata": {},
   "outputs": [],
   "source": [
    "median = df['runs'].loc[1:5].median()"
   ]
  },
  {
   "cell_type": "code",
   "execution_count": 29,
   "metadata": {},
   "outputs": [],
   "source": [
    "sub_row = df.loc[df.index[df['runs'] == median].tolist()]"
   ]
  },
  {
   "cell_type": "code",
   "execution_count": 30,
   "metadata": {},
   "outputs": [
    {
     "data": {
      "text/html": [
       "<div>\n",
       "<style scoped>\n",
       "    .dataframe tbody tr th:only-of-type {\n",
       "        vertical-align: middle;\n",
       "    }\n",
       "\n",
       "    .dataframe tbody tr th {\n",
       "        vertical-align: top;\n",
       "    }\n",
       "\n",
       "    .dataframe thead th {\n",
       "        text-align: right;\n",
       "    }\n",
       "</style>\n",
       "<table border=\"1\" class=\"dataframe\">\n",
       "  <thead>\n",
       "    <tr style=\"text-align: right;\">\n",
       "      <th></th>\n",
       "      <th>name</th>\n",
       "      <th>runs</th>\n",
       "      <th>status</th>\n",
       "    </tr>\n",
       "  </thead>\n",
       "  <tbody>\n",
       "    <tr>\n",
       "      <td>0</td>\n",
       "      <td>Tendulkar</td>\n",
       "      <td>-18426</td>\n",
       "      <td>30</td>\n",
       "    </tr>\n",
       "    <tr>\n",
       "      <td>1</td>\n",
       "      <td>Sangakkara</td>\n",
       "      <td>14234</td>\n",
       "      <td>130</td>\n",
       "    </tr>\n",
       "    <tr>\n",
       "      <td>2</td>\n",
       "      <td>Ponting</td>\n",
       "      <td>13704</td>\n",
       "      <td>131</td>\n",
       "    </tr>\n",
       "    <tr>\n",
       "      <td>3</td>\n",
       "      <td>Jayasurya</td>\n",
       "      <td>13430</td>\n",
       "      <td>31</td>\n",
       "    </tr>\n",
       "    <tr>\n",
       "      <td>4</td>\n",
       "      <td>Jayawardene</td>\n",
       "      <td>-12650</td>\n",
       "      <td>130</td>\n",
       "    </tr>\n",
       "    <tr>\n",
       "      <td>5</td>\n",
       "      <td>Kohli</td>\n",
       "      <td>11867</td>\n",
       "      <td>130</td>\n",
       "    </tr>\n",
       "    <tr>\n",
       "      <td>6</td>\n",
       "      <td>Haq</td>\n",
       "      <td>11739</td>\n",
       "      <td>131</td>\n",
       "    </tr>\n",
       "    <tr>\n",
       "      <td>7</td>\n",
       "      <td>Kallis</td>\n",
       "      <td>-11579</td>\n",
       "      <td>131</td>\n",
       "    </tr>\n",
       "    <tr>\n",
       "      <td>8</td>\n",
       "      <td>Ganguly</td>\n",
       "      <td>11363</td>\n",
       "      <td>131</td>\n",
       "    </tr>\n",
       "  </tbody>\n",
       "</table>\n",
       "</div>"
      ],
      "text/plain": [
       "          name   runs  status\n",
       "0    Tendulkar -18426      30\n",
       "1   Sangakkara  14234     130\n",
       "2      Ponting  13704     131\n",
       "3    Jayasurya  13430      31\n",
       "4  Jayawardene -12650     130\n",
       "5        Kohli  11867     130\n",
       "6          Haq  11739     131\n",
       "7       Kallis -11579     131\n",
       "8      Ganguly  11363     131"
      ]
     },
     "execution_count": 30,
     "metadata": {},
     "output_type": "execute_result"
    }
   ],
   "source": [
    "df"
   ]
  },
  {
   "cell_type": "code",
   "execution_count": 31,
   "metadata": {},
   "outputs": [],
   "source": [
    "df_empty = pd.DataFrame(columns = df.columns)\n",
    "for i in range(df.shape[0]-2):\n",
    "    median = df['runs'].loc[i:i+2].median()\n",
    "    sub_row = df.loc[df.index[df['runs'] == median].tolist()]\n",
    "    df_empty = df_empty.append(sub_row, ignore_index=False)\n",
    "df_empty = df_empty.reset_index()\n",
    "df_empty = df_empty.drop(['index'], axis=1)"
   ]
  },
  {
   "cell_type": "code",
   "execution_count": 32,
   "metadata": {},
   "outputs": [],
   "source": [
    "df_empty2 = df_empty[['runs', 'status']].copy()"
   ]
  },
  {
   "cell_type": "code",
   "execution_count": 33,
   "metadata": {},
   "outputs": [
    {
     "data": {
      "text/html": [
       "<div>\n",
       "<style scoped>\n",
       "    .dataframe tbody tr th:only-of-type {\n",
       "        vertical-align: middle;\n",
       "    }\n",
       "\n",
       "    .dataframe tbody tr th {\n",
       "        vertical-align: top;\n",
       "    }\n",
       "\n",
       "    .dataframe thead th {\n",
       "        text-align: right;\n",
       "    }\n",
       "</style>\n",
       "<table border=\"1\" class=\"dataframe\">\n",
       "  <thead>\n",
       "    <tr style=\"text-align: right;\">\n",
       "      <th></th>\n",
       "      <th>runs</th>\n",
       "      <th>status</th>\n",
       "    </tr>\n",
       "  </thead>\n",
       "  <tbody>\n",
       "    <tr>\n",
       "      <td>0</td>\n",
       "      <td>13704</td>\n",
       "      <td>131</td>\n",
       "    </tr>\n",
       "    <tr>\n",
       "      <td>1</td>\n",
       "      <td>13704</td>\n",
       "      <td>131</td>\n",
       "    </tr>\n",
       "    <tr>\n",
       "      <td>2</td>\n",
       "      <td>13430</td>\n",
       "      <td>31</td>\n",
       "    </tr>\n",
       "    <tr>\n",
       "      <td>3</td>\n",
       "      <td>11867</td>\n",
       "      <td>130</td>\n",
       "    </tr>\n",
       "    <tr>\n",
       "      <td>4</td>\n",
       "      <td>11739</td>\n",
       "      <td>131</td>\n",
       "    </tr>\n",
       "    <tr>\n",
       "      <td>5</td>\n",
       "      <td>11739</td>\n",
       "      <td>131</td>\n",
       "    </tr>\n",
       "    <tr>\n",
       "      <td>6</td>\n",
       "      <td>11363</td>\n",
       "      <td>131</td>\n",
       "    </tr>\n",
       "  </tbody>\n",
       "</table>\n",
       "</div>"
      ],
      "text/plain": [
       "    runs status\n",
       "0  13704    131\n",
       "1  13704    131\n",
       "2  13430     31\n",
       "3  11867    130\n",
       "4  11739    131\n",
       "5  11739    131\n",
       "6  11363    131"
      ]
     },
     "execution_count": 33,
     "metadata": {},
     "output_type": "execute_result"
    }
   ],
   "source": [
    "df_empty2"
   ]
  },
  {
   "cell_type": "code",
   "execution_count": 34,
   "metadata": {},
   "outputs": [
    {
     "data": {
      "text/plain": [
       "array([    0, 13430, 13430, 13430, 11867, 11739, 11363, 11363,     0],\n",
       "      dtype=int64)"
      ]
     },
     "execution_count": 34,
     "metadata": {},
     "output_type": "execute_result"
    }
   ],
   "source": [
    "from scipy.signal import medfilt\n",
    "y1 = medfilt(df['runs'], kernel_size=5)\n",
    "y1"
   ]
  },
  {
   "cell_type": "code",
   "execution_count": 35,
   "metadata": {},
   "outputs": [],
   "source": [
    "df_empty = pd.DataFrame(columns = df.columns)\n",
    "for i in range(df.shape[0]-2):\n",
    "    y1 = medfilt(df['runs'], kernel_size=3)\n",
    "    sub_row = df.loc[df.index[df['runs'] == y1[i]].tolist()]\n",
    "    df_empty = df_empty.append(sub_row, ignore_index=False)\n",
    "df_empty = df_empty.reset_index()\n",
    "df_empty = df_empty.drop(['index'], axis=1)"
   ]
  },
  {
   "cell_type": "code",
   "execution_count": 36,
   "metadata": {},
   "outputs": [
    {
     "data": {
      "text/plain": [
       "-18426"
      ]
     },
     "execution_count": 36,
     "metadata": {},
     "output_type": "execute_result"
    }
   ],
   "source": [
    "df['runs'].loc[0]"
   ]
  },
  {
   "cell_type": "code",
   "execution_count": 37,
   "metadata": {},
   "outputs": [
    {
     "data": {
      "text/html": [
       "<div>\n",
       "<style scoped>\n",
       "    .dataframe tbody tr th:only-of-type {\n",
       "        vertical-align: middle;\n",
       "    }\n",
       "\n",
       "    .dataframe tbody tr th {\n",
       "        vertical-align: top;\n",
       "    }\n",
       "\n",
       "    .dataframe thead th {\n",
       "        text-align: right;\n",
       "    }\n",
       "</style>\n",
       "<table border=\"1\" class=\"dataframe\">\n",
       "  <thead>\n",
       "    <tr style=\"text-align: right;\">\n",
       "      <th></th>\n",
       "      <th>name</th>\n",
       "      <th>runs</th>\n",
       "      <th>status</th>\n",
       "    </tr>\n",
       "  </thead>\n",
       "  <tbody>\n",
       "    <tr>\n",
       "      <td>0</td>\n",
       "      <td>Ponting</td>\n",
       "      <td>13704</td>\n",
       "      <td>131</td>\n",
       "    </tr>\n",
       "    <tr>\n",
       "      <td>1</td>\n",
       "      <td>Ponting</td>\n",
       "      <td>13704</td>\n",
       "      <td>131</td>\n",
       "    </tr>\n",
       "    <tr>\n",
       "      <td>2</td>\n",
       "      <td>Jayasurya</td>\n",
       "      <td>13430</td>\n",
       "      <td>31</td>\n",
       "    </tr>\n",
       "    <tr>\n",
       "      <td>3</td>\n",
       "      <td>Kohli</td>\n",
       "      <td>11867</td>\n",
       "      <td>130</td>\n",
       "    </tr>\n",
       "    <tr>\n",
       "      <td>4</td>\n",
       "      <td>Haq</td>\n",
       "      <td>11739</td>\n",
       "      <td>131</td>\n",
       "    </tr>\n",
       "    <tr>\n",
       "      <td>5</td>\n",
       "      <td>Haq</td>\n",
       "      <td>11739</td>\n",
       "      <td>131</td>\n",
       "    </tr>\n",
       "  </tbody>\n",
       "</table>\n",
       "</div>"
      ],
      "text/plain": [
       "        name   runs status\n",
       "0    Ponting  13704    131\n",
       "1    Ponting  13704    131\n",
       "2  Jayasurya  13430     31\n",
       "3      Kohli  11867    130\n",
       "4        Haq  11739    131\n",
       "5        Haq  11739    131"
      ]
     },
     "execution_count": 37,
     "metadata": {},
     "output_type": "execute_result"
    }
   ],
   "source": [
    "df_empty"
   ]
  },
  {
   "cell_type": "code",
   "execution_count": 38,
   "metadata": {},
   "outputs": [],
   "source": [
    "def func(arr, i):\n",
    "    j = [k for k in arr if k in range(i, i+5)]\n",
    "    return j"
   ]
  },
  {
   "cell_type": "code",
   "execution_count": 39,
   "metadata": {},
   "outputs": [
    {
     "data": {
      "text/html": [
       "<div>\n",
       "<style scoped>\n",
       "    .dataframe tbody tr th:only-of-type {\n",
       "        vertical-align: middle;\n",
       "    }\n",
       "\n",
       "    .dataframe tbody tr th {\n",
       "        vertical-align: top;\n",
       "    }\n",
       "\n",
       "    .dataframe thead th {\n",
       "        text-align: right;\n",
       "    }\n",
       "</style>\n",
       "<table border=\"1\" class=\"dataframe\">\n",
       "  <thead>\n",
       "    <tr style=\"text-align: right;\">\n",
       "      <th></th>\n",
       "      <th>name</th>\n",
       "      <th>runs</th>\n",
       "      <th>status</th>\n",
       "    </tr>\n",
       "  </thead>\n",
       "  <tbody>\n",
       "    <tr>\n",
       "      <td>3</td>\n",
       "      <td>Jayasurya</td>\n",
       "      <td>13430</td>\n",
       "      <td>31</td>\n",
       "    </tr>\n",
       "  </tbody>\n",
       "</table>\n",
       "</div>"
      ],
      "text/plain": [
       "        name   runs  status\n",
       "3  Jayasurya  13430      31"
      ]
     },
     "execution_count": 39,
     "metadata": {},
     "output_type": "execute_result"
    }
   ],
   "source": [
    "df.loc[func(df.loc[1:3:2].index.to_list(), 2)]"
   ]
  },
  {
   "cell_type": "code",
   "execution_count": 40,
   "metadata": {},
   "outputs": [
    {
     "name": "stdout",
     "output_type": "stream",
     "text": [
      "[      X_force  Z_force     lambda  Y_force    time(sec)\n",
      "0     -0.0531   0.1127    4.42950   1.5915  26509.98438\n",
      "1      0.4076   0.1823    4.06080   1.8541  26509.98438\n",
      "2      0.2976   0.2287    3.07610   1.6269  26509.98438\n",
      "3      0.2139   0.2287    2.98510   1.5511  26509.98633\n",
      "4     -0.0531   0.3969    2.70625   1.5511  26509.98828\n",
      "...       ...      ...        ...      ...          ...\n",
      "3283  -0.2206  -0.0033  206.92460  12.2235  26513.41406\n",
      "3284  -0.1997   0.0460  206.67035  12.1612  26513.41406\n",
      "3285   0.2453   0.1852  206.49880  12.2066  26513.41602\n",
      "3286  -0.3148   0.3041  206.69895  12.0955  26513.41797\n",
      "3287  -0.5452   0.2403  206.70375  12.2167  26513.41990\n",
      "\n",
      "[3288 rows x 5 columns]]\n"
     ]
    }
   ],
   "source": [
    "data = []\n",
    "data.append(pd.read_fwf('Pulling_3bs/16u2.txt', colspecs = [(0, 9), (9, 17), (17, 28), (28, 37), (37, -1)]))\n",
    "print(data)\n",
    "# print(data)\n",
    "data_frame = pd.DataFrame(columns = ['X_force', 'Z_force', 'lambda', 'Y_force', 'time(sec)'])\n",
    "data_frame = pd.concat([j for j in data], ignore_index=True)"
   ]
  },
  {
   "cell_type": "code",
   "execution_count": 41,
   "metadata": {},
   "outputs": [
    {
     "data": {
      "text/html": [
       "<div>\n",
       "<style scoped>\n",
       "    .dataframe tbody tr th:only-of-type {\n",
       "        vertical-align: middle;\n",
       "    }\n",
       "\n",
       "    .dataframe tbody tr th {\n",
       "        vertical-align: top;\n",
       "    }\n",
       "\n",
       "    .dataframe thead th {\n",
       "        text-align: right;\n",
       "    }\n",
       "</style>\n",
       "<table border=\"1\" class=\"dataframe\">\n",
       "  <thead>\n",
       "    <tr style=\"text-align: right;\">\n",
       "      <th></th>\n",
       "      <th>X_force</th>\n",
       "      <th>Z_force</th>\n",
       "      <th>lambda</th>\n",
       "      <th>Y_force</th>\n",
       "      <th>time(sec)</th>\n",
       "    </tr>\n",
       "  </thead>\n",
       "  <tbody>\n",
       "    <tr>\n",
       "      <td>0</td>\n",
       "      <td>-0.0531</td>\n",
       "      <td>0.1127</td>\n",
       "      <td>4.42950</td>\n",
       "      <td>1.5915</td>\n",
       "      <td>26509.98438</td>\n",
       "    </tr>\n",
       "    <tr>\n",
       "      <td>1</td>\n",
       "      <td>0.4076</td>\n",
       "      <td>0.1823</td>\n",
       "      <td>4.06080</td>\n",
       "      <td>1.8541</td>\n",
       "      <td>26509.98438</td>\n",
       "    </tr>\n",
       "    <tr>\n",
       "      <td>2</td>\n",
       "      <td>0.2976</td>\n",
       "      <td>0.2287</td>\n",
       "      <td>3.07610</td>\n",
       "      <td>1.6269</td>\n",
       "      <td>26509.98438</td>\n",
       "    </tr>\n",
       "    <tr>\n",
       "      <td>3</td>\n",
       "      <td>0.2139</td>\n",
       "      <td>0.2287</td>\n",
       "      <td>2.98510</td>\n",
       "      <td>1.5511</td>\n",
       "      <td>26509.98633</td>\n",
       "    </tr>\n",
       "    <tr>\n",
       "      <td>4</td>\n",
       "      <td>-0.0531</td>\n",
       "      <td>0.3969</td>\n",
       "      <td>2.70625</td>\n",
       "      <td>1.5511</td>\n",
       "      <td>26509.98828</td>\n",
       "    </tr>\n",
       "    <tr>\n",
       "      <td>...</td>\n",
       "      <td>...</td>\n",
       "      <td>...</td>\n",
       "      <td>...</td>\n",
       "      <td>...</td>\n",
       "      <td>...</td>\n",
       "    </tr>\n",
       "    <tr>\n",
       "      <td>3283</td>\n",
       "      <td>-0.2206</td>\n",
       "      <td>-0.0033</td>\n",
       "      <td>206.92460</td>\n",
       "      <td>12.2235</td>\n",
       "      <td>26513.41406</td>\n",
       "    </tr>\n",
       "    <tr>\n",
       "      <td>3284</td>\n",
       "      <td>-0.1997</td>\n",
       "      <td>0.0460</td>\n",
       "      <td>206.67035</td>\n",
       "      <td>12.1612</td>\n",
       "      <td>26513.41406</td>\n",
       "    </tr>\n",
       "    <tr>\n",
       "      <td>3285</td>\n",
       "      <td>0.2453</td>\n",
       "      <td>0.1852</td>\n",
       "      <td>206.49880</td>\n",
       "      <td>12.2066</td>\n",
       "      <td>26513.41602</td>\n",
       "    </tr>\n",
       "    <tr>\n",
       "      <td>3286</td>\n",
       "      <td>-0.3148</td>\n",
       "      <td>0.3041</td>\n",
       "      <td>206.69895</td>\n",
       "      <td>12.0955</td>\n",
       "      <td>26513.41797</td>\n",
       "    </tr>\n",
       "    <tr>\n",
       "      <td>3287</td>\n",
       "      <td>-0.5452</td>\n",
       "      <td>0.2403</td>\n",
       "      <td>206.70375</td>\n",
       "      <td>12.2167</td>\n",
       "      <td>26513.41990</td>\n",
       "    </tr>\n",
       "  </tbody>\n",
       "</table>\n",
       "<p>3288 rows × 5 columns</p>\n",
       "</div>"
      ],
      "text/plain": [
       "      X_force  Z_force     lambda  Y_force    time(sec)\n",
       "0     -0.0531   0.1127    4.42950   1.5915  26509.98438\n",
       "1      0.4076   0.1823    4.06080   1.8541  26509.98438\n",
       "2      0.2976   0.2287    3.07610   1.6269  26509.98438\n",
       "3      0.2139   0.2287    2.98510   1.5511  26509.98633\n",
       "4     -0.0531   0.3969    2.70625   1.5511  26509.98828\n",
       "...       ...      ...        ...      ...          ...\n",
       "3283  -0.2206  -0.0033  206.92460  12.2235  26513.41406\n",
       "3284  -0.1997   0.0460  206.67035  12.1612  26513.41406\n",
       "3285   0.2453   0.1852  206.49880  12.2066  26513.41602\n",
       "3286  -0.3148   0.3041  206.69895  12.0955  26513.41797\n",
       "3287  -0.5452   0.2403  206.70375  12.2167  26513.41990\n",
       "\n",
       "[3288 rows x 5 columns]"
      ]
     },
     "execution_count": 41,
     "metadata": {},
     "output_type": "execute_result"
    }
   ],
   "source": [
    "data_frame"
   ]
  },
  {
   "cell_type": "code",
   "execution_count": null,
   "metadata": {},
   "outputs": [],
   "source": []
  },
  {
   "cell_type": "code",
   "execution_count": 48,
   "metadata": {},
   "outputs": [],
   "source": [
    "df = pd.DataFrame({'a': [1, 2, 3, 4, 5, 6],\n",
    "                   'b': [1, 1, 2, 3, 5, 8],\n",
    "                   'c': [1, 4, 5, 6, 7, 10]})"
   ]
  },
  {
   "cell_type": "code",
   "execution_count": 49,
   "metadata": {},
   "outputs": [
    {
     "data": {
      "text/html": [
       "<div>\n",
       "<style scoped>\n",
       "    .dataframe tbody tr th:only-of-type {\n",
       "        vertical-align: middle;\n",
       "    }\n",
       "\n",
       "    .dataframe tbody tr th {\n",
       "        vertical-align: top;\n",
       "    }\n",
       "\n",
       "    .dataframe thead th {\n",
       "        text-align: right;\n",
       "    }\n",
       "</style>\n",
       "<table border=\"1\" class=\"dataframe\">\n",
       "  <thead>\n",
       "    <tr style=\"text-align: right;\">\n",
       "      <th></th>\n",
       "      <th>a</th>\n",
       "      <th>b</th>\n",
       "      <th>c</th>\n",
       "    </tr>\n",
       "  </thead>\n",
       "  <tbody>\n",
       "    <tr>\n",
       "      <td>0</td>\n",
       "      <td>1</td>\n",
       "      <td>1</td>\n",
       "      <td>1</td>\n",
       "    </tr>\n",
       "    <tr>\n",
       "      <td>1</td>\n",
       "      <td>2</td>\n",
       "      <td>1</td>\n",
       "      <td>4</td>\n",
       "    </tr>\n",
       "    <tr>\n",
       "      <td>2</td>\n",
       "      <td>3</td>\n",
       "      <td>2</td>\n",
       "      <td>5</td>\n",
       "    </tr>\n",
       "    <tr>\n",
       "      <td>3</td>\n",
       "      <td>4</td>\n",
       "      <td>3</td>\n",
       "      <td>6</td>\n",
       "    </tr>\n",
       "    <tr>\n",
       "      <td>4</td>\n",
       "      <td>5</td>\n",
       "      <td>5</td>\n",
       "      <td>7</td>\n",
       "    </tr>\n",
       "    <tr>\n",
       "      <td>5</td>\n",
       "      <td>6</td>\n",
       "      <td>8</td>\n",
       "      <td>10</td>\n",
       "    </tr>\n",
       "  </tbody>\n",
       "</table>\n",
       "</div>"
      ],
      "text/plain": [
       "   a  b   c\n",
       "0  1  1   1\n",
       "1  2  1   4\n",
       "2  3  2   5\n",
       "3  4  3   6\n",
       "4  5  5   7\n",
       "5  6  8  10"
      ]
     },
     "execution_count": 49,
     "metadata": {},
     "output_type": "execute_result"
    }
   ],
   "source": [
    "df"
   ]
  },
  {
   "cell_type": "code",
   "execution_count": 58,
   "metadata": {},
   "outputs": [],
   "source": [
    "lista = df.index[df['c'].diff() > 1].tolist()"
   ]
  },
  {
   "cell_type": "code",
   "execution_count": 59,
   "metadata": {},
   "outputs": [
    {
     "data": {
      "text/plain": [
       "[1, 5]"
      ]
     },
     "execution_count": 59,
     "metadata": {},
     "output_type": "execute_result"
    }
   ],
   "source": [
    "lista"
   ]
  },
  {
   "cell_type": "code",
   "execution_count": 61,
   "metadata": {},
   "outputs": [
    {
     "data": {
      "text/html": [
       "<div>\n",
       "<style scoped>\n",
       "    .dataframe tbody tr th:only-of-type {\n",
       "        vertical-align: middle;\n",
       "    }\n",
       "\n",
       "    .dataframe tbody tr th {\n",
       "        vertical-align: top;\n",
       "    }\n",
       "\n",
       "    .dataframe thead th {\n",
       "        text-align: right;\n",
       "    }\n",
       "</style>\n",
       "<table border=\"1\" class=\"dataframe\">\n",
       "  <thead>\n",
       "    <tr style=\"text-align: right;\">\n",
       "      <th></th>\n",
       "      <th>a</th>\n",
       "      <th>b</th>\n",
       "      <th>c</th>\n",
       "    </tr>\n",
       "  </thead>\n",
       "  <tbody>\n",
       "    <tr>\n",
       "      <td>0</td>\n",
       "      <td>2</td>\n",
       "      <td>1</td>\n",
       "      <td>4</td>\n",
       "    </tr>\n",
       "    <tr>\n",
       "      <td>1</td>\n",
       "      <td>6</td>\n",
       "      <td>8</td>\n",
       "      <td>10</td>\n",
       "    </tr>\n",
       "  </tbody>\n",
       "</table>\n",
       "</div>"
      ],
      "text/plain": [
       "   a  b   c\n",
       "0  2  1   4\n",
       "1  6  8  10"
      ]
     },
     "execution_count": 61,
     "metadata": {},
     "output_type": "execute_result"
    }
   ],
   "source": [
    "df2 = pd.DataFrame(columns = df.columns)\n",
    "for i in lista:\n",
    "    df2 = df2.append(df.loc[i], ignore_index=True)\n",
    "df2"
   ]
  },
  {
   "cell_type": "code",
   "execution_count": 47,
   "metadata": {},
   "outputs": [
    {
     "data": {
      "text/html": [
       "<div>\n",
       "<style scoped>\n",
       "    .dataframe tbody tr th:only-of-type {\n",
       "        vertical-align: middle;\n",
       "    }\n",
       "\n",
       "    .dataframe tbody tr th {\n",
       "        vertical-align: top;\n",
       "    }\n",
       "\n",
       "    .dataframe thead th {\n",
       "        text-align: right;\n",
       "    }\n",
       "</style>\n",
       "<table border=\"1\" class=\"dataframe\">\n",
       "  <thead>\n",
       "    <tr style=\"text-align: right;\">\n",
       "      <th></th>\n",
       "      <th>a</th>\n",
       "      <th>b</th>\n",
       "      <th>c</th>\n",
       "    </tr>\n",
       "  </thead>\n",
       "  <tbody>\n",
       "    <tr>\n",
       "      <td>3</td>\n",
       "      <td>4</td>\n",
       "      <td>3</td>\n",
       "      <td>6</td>\n",
       "    </tr>\n",
       "  </tbody>\n",
       "</table>\n",
       "</div>"
      ],
      "text/plain": [
       "   a  b  c\n",
       "3  4  3  6"
      ]
     },
     "execution_count": 47,
     "metadata": {},
     "output_type": "execute_result"
    }
   ],
   "source": [
    "df2"
   ]
  },
  {
   "cell_type": "code",
   "execution_count": 1,
   "metadata": {},
   "outputs": [],
   "source": [
    "import numpy as np"
   ]
  },
  {
   "cell_type": "code",
   "execution_count": 7,
   "metadata": {},
   "outputs": [
    {
     "data": {
      "text/plain": [
       "array([3, 6])"
      ]
     },
     "execution_count": 7,
     "metadata": {},
     "output_type": "execute_result"
    }
   ],
   "source": [
    "def mypolyval(ciao, x):\n",
    "    _p = list(ciao)\n",
    "    res = _p.pop(0)\n",
    "    while _p:\n",
    "        res = res*x + _p.pop(0)\n",
    "    return res\n",
    "vpolyval = np.vectorize(mypolyval, excluded=['ciao'])\n",
    "vpolyval(ciao=[1, 2, 3], x=[0, 1])"
   ]
  }
 ],
 "metadata": {
  "interpreter": {
   "hash": "7cc63d8bb06c1e0227ac9b01a159a9605014b04eb1faff35da1ccc42cc4f7246"
  },
  "kernelspec": {
   "display_name": "Python 3.7.4 ('base')",
   "language": "python",
   "name": "python3"
  },
  "language_info": {
   "codemirror_mode": {
    "name": "ipython",
    "version": 3
   },
   "file_extension": ".py",
   "mimetype": "text/x-python",
   "name": "python",
   "nbconvert_exporter": "python",
   "pygments_lexer": "ipython3",
   "version": "3.7.4"
  },
  "orig_nbformat": 4
 },
 "nbformat": 4,
 "nbformat_minor": 2
}
